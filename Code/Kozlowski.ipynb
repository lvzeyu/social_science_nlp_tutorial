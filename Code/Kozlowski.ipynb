{
 "cells": [
  {
   "cell_type": "markdown",
   "metadata": {},
   "source": [
    "# [Kozlowski, Taddy, & Evans (2019)](https://journals.sagepub.com/doi/full/10.1177/0003122419877135)\n"
   ]
  },
  {
   "cell_type": "markdown",
   "metadata": {},
   "source": [
    "## 利用词向量的计算构建理解特定复杂概念的维度\n",
    "\n",
    "对“文化维度（Cultural Dimensions）”的测量，利用了词向量在解决类比问题上的能力。\n",
    "\n",
    "通过反映文化概念的词对之间的向量计算，可以对“文化维度”进行测量。\n",
    "\n",
    "例如，$\\vec{male}-\\vec{female}$ 这个向量表达了“性别（Gender）”这一概念。同样地，像 $\\vec{king}-\\vec{queen}$ 这样的词对也可以被认为反映了“性别”这一概念。\n",
    "\n",
    "类似地，$\\vec{rich}-\\vec{poor}$、$\\vec{affluence}-\\vec{poverty}$ 这样的词对可以被认为反映了“富裕（Affluence）”这一概念。"
   ]
  },
  {
   "cell_type": "code",
   "execution_count": 5,
   "metadata": {},
   "outputs": [],
   "source": [
    "#!pip install --upgrade gensim"
   ]
  },
  {
   "cell_type": "code",
   "execution_count": 6,
   "metadata": {},
   "outputs": [],
   "source": [
    "import gensim.downloader\n",
    "model = gensim.downloader.load('word2vec-google-news-300')"
   ]
  },
  {
   "cell_type": "code",
   "execution_count": 7,
   "metadata": {},
   "outputs": [],
   "source": [
    "rich_list=[\"rich\",\"richer\",\"affluence\",\"luxury\"]\n",
    "poor_list=[\"poor\",\"poorer\",\"poverty\",\"cheap\"]"
   ]
  },
  {
   "cell_type": "code",
   "execution_count": 8,
   "metadata": {},
   "outputs": [],
   "source": [
    "import numpy as np\n",
    "affluence_vec=[]\n",
    "for i,j in zip(rich_list,poor_list):\n",
    "    affluence_vec.append(model[i]-model[j])\n",
    "affluence_vec=np.array(affluence_vec)\n",
    "affluence_vec=np.mean(affluence_vec,axis=0)"
   ]
  },
  {
   "cell_type": "markdown",
   "metadata": {},
   "source": [
    "某个词语在“文化维度（Cultural Dimensions）”中如何被解读，可以通过计算该词的向量与文化维度向量之间的夹角来判断。\n",
    "\n",
    "这个夹角越小，说明该词与该文化维度的关联越强。通过这种方法，我们可以对词语所具有的文化含义或语义细微差别进行量化分析。\n",
    "\n",
    "\n",
    "$$cos(\\theta))=\\frac{D \\cdot V}{|D||V|} $$\n",
    "$$\\theta = \\arccos(cos(\\theta))$$"
   ]
  },
  {
   "cell_type": "code",
   "execution_count": 10,
   "metadata": {},
   "outputs": [],
   "source": [
    "def get_consine(vector, dimension):\n",
    "    \"\"\"\n",
    "    Calculate the angle between the vector and the given dimension\n",
    "    \"\"\"\n",
    "    v_dot_d = np.dot(vector, dimension)\n",
    "    v_d = np.linalg.norm(vector) * np.linalg.norm(dimension)\n",
    "    return v_dot_d / v_d"
   ]
  },
  {
   "cell_type": "code",
   "execution_count": 11,
   "metadata": {},
   "outputs": [
    {
     "data": {
      "text/plain": [
       "0.10311404"
      ]
     },
     "execution_count": 11,
     "metadata": {},
     "output_type": "execute_result"
    }
   ],
   "source": [
    "get_consine(model[\"tennis\"],affluence_vec)"
   ]
  },
  {
   "cell_type": "code",
   "execution_count": 12,
   "metadata": {},
   "outputs": [
    {
     "data": {
      "text/plain": [
       "array([[0.10311404]], dtype=float32)"
      ]
     },
     "execution_count": 12,
     "metadata": {},
     "output_type": "execute_result"
    }
   ],
   "source": [
    "from sklearn.metrics.pairwise import cosine_similarity\n",
    "cosine_similarity(model[\"tennis\"].reshape(1,-1),affluence_vec.reshape(1,-1))"
   ]
  },
  {
   "cell_type": "code",
   "execution_count": 13,
   "metadata": {},
   "outputs": [],
   "source": [
    "def get_angle(vector, dimension,degree=False):\n",
    "    \"\"\"\n",
    "    Calculate the angle between the vector and the given dimension\n",
    "    \"\"\"\n",
    "    c = get_consine(vector, dimension)\n",
    "    if degree:\n",
    "        return np.degrees(np.arccos(np.clip(c, -1, 1)))\n",
    "    else:\n",
    "        return np.arccos(np.clip(c, -1, 1)) #return radian"
   ]
  },
  {
   "cell_type": "code",
   "execution_count": 14,
   "metadata": {},
   "outputs": [],
   "source": [
    "sports=[\"tennis\",\"soccer\",\"basketball\",\"boxing\",\"golf\",\"swimming\",\"volleyball\",\"camping\",\"weightlifting\",\"hiking\",\"hockey\"]"
   ]
  },
  {
   "cell_type": "code",
   "execution_count": 15,
   "metadata": {},
   "outputs": [
    {
     "name": "stdout",
     "output_type": "stream",
     "text": [
      "tennis 84.08148088988168\n",
      "soccer 86.44827879084316\n",
      "basketball 87.49476268241891\n",
      "boxing 96.19771940639099\n",
      "golf 81.23037992187086\n",
      "swimming 87.66950350249788\n",
      "volleyball 84.87990835557244\n",
      "camping 92.6404688343294\n",
      "weightlifting 92.84652219656259\n",
      "hiking 89.06679353599412\n",
      "hockey 88.23169120649816\n"
     ]
    }
   ],
   "source": [
    "for sport in sports:\n",
    "    print(sport,get_angle(model[sport],affluence_vec,degree=True))"
   ]
  },
  {
   "cell_type": "markdown",
   "metadata": {},
   "source": [
    "## 利用词向量的计算理解不同维度之间的关系"
   ]
  },
  {
   "cell_type": "markdown",
   "metadata": {},
   "source": [
    "“Class”这一概念是由多维的因素构成的，并且这些构成随着时间而不断变化。\n",
    "\n",
    "通过构建“Cultural Dimensions”，可以定量地测量“Class”各个构成要素的“意义”。\n",
    "\n",
    "例如，“富裕（Affluence）”与其他要素之间的关系，有助于揭示阶层这一概念的意义结构。"
   ]
  },
  {
   "cell_type": "code",
   "execution_count": 16,
   "metadata": {},
   "outputs": [],
   "source": [
    "def create_vector(word_pair):\n",
    "    vec=[]\n",
    "    for i in word_pair:\n",
    "        vec.append(model[i[0]]-model[i[1]])\n",
    "    vec=np.array(vec)\n",
    "    vec=np.mean(vec,axis=0)\n",
    "    return vec"
   ]
  },
  {
   "cell_type": "code",
   "execution_count": 17,
   "metadata": {},
   "outputs": [],
   "source": [
    "education_pair=[(\"educated\",\"uneducated\"),(\"learned\",\"unlearned\"),(\"taught\",\"untaught\"),\n",
    "                (\"schooled\",\"unschooled\"),(\"trained\",\"untrained\"),(\"lettered\",\"unlettered\"),\n",
    "                (\"tutored\",\"untutored\"),(\"literate\",\"illiterate\")]"
   ]
  },
  {
   "cell_type": "code",
   "execution_count": 18,
   "metadata": {},
   "outputs": [],
   "source": [
    "education_vec=create_vector(education_pair)"
   ]
  },
  {
   "cell_type": "code",
   "execution_count": 19,
   "metadata": {},
   "outputs": [],
   "source": [
    "gender_pair=[(\"man\",\"woman\"),(\"men\",\"women\"),(\"he\",\"she\"),(\"him\",\"her\"),\n",
    "             (\"his\",\"her\"),(\"boy\",\"girl\"),(\"male\",\"female\"),(\"masculine\",\"feminine\")]"
   ]
  },
  {
   "cell_type": "code",
   "execution_count": 20,
   "metadata": {},
   "outputs": [],
   "source": [
    "gender_vec=create_vector(gender_pair)"
   ]
  },
  {
   "cell_type": "code",
   "execution_count": 21,
   "metadata": {},
   "outputs": [
    {
     "data": {
      "text/plain": [
       "array([[-0.04156307]], dtype=float32)"
      ]
     },
     "execution_count": 21,
     "metadata": {},
     "output_type": "execute_result"
    }
   ],
   "source": [
    "cosine_similarity(gender_vec.reshape(1,-1),affluence_vec.reshape(1,-1))"
   ]
  },
  {
   "cell_type": "code",
   "execution_count": 22,
   "metadata": {},
   "outputs": [
    {
     "data": {
      "text/plain": [
       "array([[0.20604998]], dtype=float32)"
      ]
     },
     "execution_count": 22,
     "metadata": {},
     "output_type": "execute_result"
    }
   ],
   "source": [
    "cosine_similarity(education_vec.reshape(1,-1),affluence_vec.reshape(1,-1))"
   ]
  }
 ],
 "metadata": {
  "kernelspec": {
   "display_name": "nlp",
   "language": "python",
   "name": "python3"
  },
  "language_info": {
   "codemirror_mode": {
    "name": "ipython",
    "version": 3
   },
   "file_extension": ".py",
   "mimetype": "text/x-python",
   "name": "python",
   "nbconvert_exporter": "python",
   "pygments_lexer": "ipython3",
   "version": "3.10.13"
  }
 },
 "nbformat": 4,
 "nbformat_minor": 2
}
