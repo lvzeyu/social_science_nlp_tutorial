{
 "cells": [
  {
   "cell_type": "markdown",
   "metadata": {},
   "source": [
    "# 基于BERT的情感分类实践\n",
    "\n",
    "- pytorch\n",
    "- transformer\n",
    "\n",
    "##  迁移学习（Transfer Learning）和微调（Fine-tuning）\n",
    "\n",
    "\n",
    "- BERT 首先在大规模的语料库上进行预训练（Pre-training）\n",
    "    - 在预训练阶段，BERT 获取了丰富的语言知识，如语法结构、上下文关系等，成为一个 通用的语言表示模型\n",
    "- BERT 可以被微调（Fine-tuning）以适应具体的下游任务\n",
    "    - BERT 模型会根据特定任务的标签数据进行进一步训练\n",
    "    - 模型能够将 预训练获得的通用知识转移到特定任务上，并根据任务的特点进行调整\n",
    "\n",
    "![](./fine-tuning_methods.png)"
   ]
  },
  {
   "cell_type": "code",
   "execution_count": 1,
   "metadata": {},
   "outputs": [],
   "source": [
    "import warnings\n",
    "warnings.filterwarnings(\"ignore\")"
   ]
  },
  {
   "cell_type": "markdown",
   "metadata": {},
   "source": [
    "## センチメント分析の実装\n",
    "\n",
    "微调（Fine-tuning）涉及了大量的矩阵运算\n",
    "\n",
    "- CPU的运算效率普遍较低\n",
    "- GPU更加适合矩阵运算\n",
    "- PyTorch对不同类型 GPU 提供了支持\n",
    "    - 针对NVIDIA GPU 架构的优化"
   ]
  },
  {
   "cell_type": "code",
   "execution_count": 2,
   "metadata": {},
   "outputs": [
    {
     "name": "stdout",
     "output_type": "stream",
     "text": [
      "Fri Apr 11 00:20:04 2025       \n",
      "+-----------------------------------------------------------------------------------------+\n",
      "| NVIDIA-SMI 560.35.03              Driver Version: 560.35.03      CUDA Version: 12.6     |\n",
      "|-----------------------------------------+------------------------+----------------------+\n",
      "| GPU  Name                 Persistence-M | Bus-Id          Disp.A | Volatile Uncorr. ECC |\n",
      "| Fan  Temp   Perf          Pwr:Usage/Cap |           Memory-Usage | GPU-Util  Compute M. |\n",
      "|                                         |                        |               MIG M. |\n",
      "|=========================================+========================+======================|\n",
      "|   0  NVIDIA RTX A6000               Off |   00000000:01:00.0  On |                  Off |\n",
      "| 50%   64C    P8             37W /  300W |    6530MiB /  49140MiB |      4%      Default |\n",
      "|                                         |                        |                  N/A |\n",
      "+-----------------------------------------+------------------------+----------------------+\n",
      "|   1  NVIDIA RTX A6000               Off |   00000000:02:00.0 Off |                  Off |\n",
      "| 30%   35C    P8             12W /  300W |    1747MiB /  49140MiB |      0%      Default |\n",
      "|                                         |                        |                  N/A |\n",
      "+-----------------------------------------+------------------------+----------------------+\n",
      "                                                                                         \n",
      "+-----------------------------------------------------------------------------------------+\n",
      "| Processes:                                                                              |\n",
      "|  GPU   GI   CI        PID   Type   Process name                              GPU Memory |\n",
      "|        ID   ID                                                               Usage      |\n",
      "|=========================================================================================|\n",
      "|    0   N/A  N/A    368546      G   /usr/bin/gnome-shell                          754MiB |\n",
      "|    0   N/A  N/A    369070      G   /usr/bin/Xwayland                            1589MiB |\n",
      "|    0   N/A  N/A    369111      G   /usr/bin/nautilus                             184MiB |\n",
      "|    0   N/A  N/A    370296      G   ...sion,SpareRendererForSitePerProcess        877MiB |\n",
      "|    0   N/A  N/A    396382      G   /usr/bin/gnome-text-editor                     31MiB |\n",
      "|    0   N/A  N/A   1198518      C   ...yu/anaconda3/envs/llm-ft/bin/python       2532MiB |\n",
      "|    0   N/A  N/A   3976211      G   ...seed-version=20241020-180137.275000        250MiB |\n",
      "|    1   N/A  N/A    368546      G   /usr/bin/gnome-shell                            4MiB |\n",
      "|    1   N/A  N/A   1198518      C   ...yu/anaconda3/envs/llm-ft/bin/python       1728MiB |\n",
      "+-----------------------------------------------------------------------------------------+\n"
     ]
    }
   ],
   "source": [
    "!nvidia-smi"
   ]
  },
  {
   "cell_type": "markdown",
   "metadata": {},
   "source": [
    "### Dataset"
   ]
  },
  {
   "cell_type": "markdown",
   "metadata": {},
   "source": [
    "#### 从Hugging Face获取示例数据\n",
    "\n",
    "Hugging Face 提供了各种各样的数据集。这里我们将以一个多语言的情感分析数据集为例进行使用。该数据集包含英文和中文的子集。\n"
   ]
  },
  {
   "cell_type": "code",
   "execution_count": 3,
   "metadata": {},
   "outputs": [],
   "source": [
    "#!pip install datasets"
   ]
  },
  {
   "cell_type": "code",
   "execution_count": 4,
   "metadata": {},
   "outputs": [],
   "source": [
    "from datasets import load_dataset\n",
    "dataset = load_dataset(\"tyqiangz/multilingual-sentiments\", \"chinese\")\n",
    "#dataset = load_dataset(\"tyqiangz/multilingual-sentiments\", \"english\")"
   ]
  },
  {
   "cell_type": "markdown",
   "metadata": {},
   "source": [
    "#### 数据确认\n",
    "\n",
    "我们来确认一下获取到的数据集的内容。\n",
    "\n",
    "该数据集被划分为 train（训练集）、validation（验证集）和 test（测试集）三部分，\n",
    "并且包含了诸如 'text'（文本）、'source'（来源）、'label'（标签）等信息。\n"
   ]
  },
  {
   "cell_type": "code",
   "execution_count": 5,
   "metadata": {},
   "outputs": [
    {
     "data": {
      "text/plain": [
       "DatasetDict({\n",
       "    train: Dataset({\n",
       "        features: ['text', 'source', 'label'],\n",
       "        num_rows: 120000\n",
       "    })\n",
       "    validation: Dataset({\n",
       "        features: ['text', 'source', 'label'],\n",
       "        num_rows: 3000\n",
       "    })\n",
       "    test: Dataset({\n",
       "        features: ['text', 'source', 'label'],\n",
       "        num_rows: 3000\n",
       "    })\n",
       "})"
      ]
     },
     "execution_count": 5,
     "metadata": {},
     "output_type": "execute_result"
    }
   ],
   "source": [
    "dataset"
   ]
  },
  {
   "cell_type": "code",
   "execution_count": 6,
   "metadata": {},
   "outputs": [
    {
     "data": {
      "text/plain": [
       "DatasetDict({\n",
       "    train: Dataset({\n",
       "        features: ['text', 'source', 'label'],\n",
       "        num_rows: 20000\n",
       "    })\n",
       "    validation: Dataset({\n",
       "        features: ['text', 'source', 'label'],\n",
       "        num_rows: 3000\n",
       "    })\n",
       "    test: Dataset({\n",
       "        features: ['text', 'source', 'label'],\n",
       "        num_rows: 3000\n",
       "    })\n",
       "})"
      ]
     },
     "execution_count": 6,
     "metadata": {},
     "output_type": "execute_result"
    }
   ],
   "source": [
    "dataset['train'] = dataset['train'].shuffle(seed=42).select(range(20000))\n",
    "dataset"
   ]
  },
  {
   "cell_type": "code",
   "execution_count": 7,
   "metadata": {},
   "outputs": [
    {
     "data": {
      "text/html": [
       "<div>\n",
       "<style scoped>\n",
       "    .dataframe tbody tr th:only-of-type {\n",
       "        vertical-align: middle;\n",
       "    }\n",
       "\n",
       "    .dataframe tbody tr th {\n",
       "        vertical-align: top;\n",
       "    }\n",
       "\n",
       "    .dataframe thead th {\n",
       "        text-align: right;\n",
       "    }\n",
       "</style>\n",
       "<table border=\"1\" class=\"dataframe\">\n",
       "  <thead>\n",
       "    <tr style=\"text-align: right;\">\n",
       "      <th></th>\n",
       "      <th>text</th>\n",
       "      <th>source</th>\n",
       "      <th>label</th>\n",
       "    </tr>\n",
       "  </thead>\n",
       "  <tbody>\n",
       "    <tr>\n",
       "      <th>0</th>\n",
       "      <td>这个键盘设计严重不符合人体工学。用起来很累，而且触感也不好，稍不注意就不容易触发。没有我的明...</td>\n",
       "      <td>amazon_reviews_multi</td>\n",
       "      <td>2</td>\n",
       "    </tr>\n",
       "    <tr>\n",
       "      <th>1</th>\n",
       "      <td>这也是一本很不错的书，很喜欢封面设计，金碧辉煌，哈哈，赚钱的预兆，这书能给我带来好运，因为他...</td>\n",
       "      <td>amazon_reviews_multi</td>\n",
       "      <td>0</td>\n",
       "    </tr>\n",
       "    <tr>\n",
       "      <th>2</th>\n",
       "      <td>东西没问题，亚马逊的配送真是不敢恭维，打过电话反映，还是不给送货，小哥赶时间！有时连电话都不...</td>\n",
       "      <td>amazon_reviews_multi</td>\n",
       "      <td>2</td>\n",
       "    </tr>\n",
       "    <tr>\n",
       "      <th>3</th>\n",
       "      <td>第一次买小林的 感觉不如低廉的暖宝宝持续发热时间长</td>\n",
       "      <td>amazon_reviews_multi</td>\n",
       "      <td>1</td>\n",
       "    </tr>\n",
       "    <tr>\n",
       "      <th>4</th>\n",
       "      <td>香港🇭🇰是中国的，亚马逊公然贩卖港独T恤 企图分裂中国 伤透了购物者的心情 对亚马逊太失望了...</td>\n",
       "      <td>amazon_reviews_multi</td>\n",
       "      <td>2</td>\n",
       "    </tr>\n",
       "  </tbody>\n",
       "</table>\n",
       "</div>"
      ],
      "text/plain": [
       "                                                text                source  \\\n",
       "0  这个键盘设计严重不符合人体工学。用起来很累，而且触感也不好，稍不注意就不容易触发。没有我的明...  amazon_reviews_multi   \n",
       "1  这也是一本很不错的书，很喜欢封面设计，金碧辉煌，哈哈，赚钱的预兆，这书能给我带来好运，因为他...  amazon_reviews_multi   \n",
       "2  东西没问题，亚马逊的配送真是不敢恭维，打过电话反映，还是不给送货，小哥赶时间！有时连电话都不...  amazon_reviews_multi   \n",
       "3                          第一次买小林的 感觉不如低廉的暖宝宝持续发热时间长  amazon_reviews_multi   \n",
       "4  香港🇭🇰是中国的，亚马逊公然贩卖港独T恤 企图分裂中国 伤透了购物者的心情 对亚马逊太失望了...  amazon_reviews_multi   \n",
       "\n",
       "   label  \n",
       "0      2  \n",
       "1      0  \n",
       "2      2  \n",
       "3      1  \n",
       "4      2  "
      ]
     },
     "execution_count": 7,
     "metadata": {},
     "output_type": "execute_result"
    }
   ],
   "source": [
    "dataset.set_format(type=\"pandas\")\n",
    "train_df = dataset[\"train\"][:]\n",
    "train_df.head(5)"
   ]
  },
  {
   "cell_type": "code",
   "execution_count": 8,
   "metadata": {},
   "outputs": [
    {
     "data": {
      "text/plain": [
       "{'text': Value(dtype='string', id=None),\n",
       " 'source': Value(dtype='string', id=None),\n",
       " 'label': ClassLabel(names=['positive', 'neutral', 'negative'], id=None)}"
      ]
     },
     "execution_count": 8,
     "metadata": {},
     "output_type": "execute_result"
    }
   ],
   "source": [
    "dataset[\"train\"].features"
   ]
  },
  {
   "cell_type": "code",
   "execution_count": 9,
   "metadata": {},
   "outputs": [
    {
     "data": {
      "text/plain": [
       "<Axes: title={'center': 'Train Dataset'}, ylabel='label'>"
      ]
     },
     "execution_count": 9,
     "metadata": {},
     "output_type": "execute_result"
    },
    {
     "data": {
      "image/png": "[encoded data removed]",
      "text/plain": [
       "<Figure size 640x480 with 1 Axes>"
      ]
     },
     "metadata": {},
     "output_type": "display_data"
    }
   ],
   "source": [
    "import matplotlib.pyplot as plt\n",
    "train_df[\"label\"].value_counts(ascending=True).plot(kind=\"barh\", title=\"Train Dataset\")"
   ]
  },
  {
   "cell_type": "markdown",
   "metadata": {},
   "source": [
    "#### 文本内容的确认\n",
    "\n",
    "Transformer模型有一个称为maximum context size的最大输入序列长度。\n",
    "\n",
    "- 模型的计算复杂度会随着输入序列的长度的增加而增加,需要进行适当的调整以适应硬件限制\n",
    "\n",
    "如果文本超过了模型的上下文大小，就需要将其截断。如果截断的部分包含重要信息，可能会导致性能下降。"
   ]
  },
  {
   "cell_type": "code",
   "execution_count": 10,
   "metadata": {},
   "outputs": [],
   "source": [
    "train_df[\"text_length\"]=train_df[\"text\"].str.len()"
   ]
  },
  {
   "cell_type": "code",
   "execution_count": 11,
   "metadata": {},
   "outputs": [
    {
     "data": {
      "text/plain": [
       "<Axes: title={'center': 'text_length'}, xlabel='label'>"
      ]
     },
     "execution_count": 11,
     "metadata": {},
     "output_type": "execute_result"
    },
    {
     "data": {
      "image/png": "[encoded data removed]",
      "text/plain": [
       "<Figure size 1200x600 with 1 Axes>"
      ]
     },
     "metadata": {},
     "output_type": "display_data"
    }
   ],
   "source": [
    "train_df.boxplot(column=\"text_length\", by=\"label\", figsize=(12, 6))\n"
   ]
  },
  {
   "cell_type": "markdown",
   "metadata": {},
   "source": [
    "### Tokenization\n",
    "\n",
    "计算机无法直接接收原始字符串作为输入。因此，需要先对文本进行分词（tokenization），将其编码成数值向量后才能使用。\n",
    "\n",
    "Tokenization是指将字符串分解成模型能够处理的最小单位的过程。\n",
    "\n",
    "Transformer库提供了便捷的AutoTokenizer类，可以快速调用与预训练模型相对应的分词器（Tokenizer）。"
   ]
  },
  {
   "cell_type": "markdown",
   "metadata": {},
   "source": [
    "#### tokenizer的使用\n"
   ]
  },
  {
   "cell_type": "markdown",
   "metadata": {},
   "source": [
    "分词器（Tokenizer）将文本转换为数值形式：\n",
    "\n",
    "- 将输入文本拆分成多个Token（标记）。\n",
    "\n",
    "- 自动添加特殊的Token（如句首、句尾标记等）。\n",
    "\n",
    "- 将Token转换成对应的Token ID（数字标识）。"
   ]
  },
  {
   "cell_type": "code",
   "execution_count": 12,
   "metadata": {},
   "outputs": [],
   "source": [
    "from transformers import AutoTokenizer\n",
    "model_ckpt = \"bert-base-chinese\"\n",
    "tokenizer = AutoTokenizer.from_pretrained(model_ckpt)"
   ]
  },
  {
   "cell_type": "code",
   "execution_count": 13,
   "metadata": {},
   "outputs": [
    {
     "data": {
      "text/plain": [
       "'这个键盘设计严重不符合人体工学。用起来很累，而且触感也不好，稍不注意就不容易触发。没有我的明基套装好用。 鼠标相对好一点，比我的另一个无线的罗技M185强不少，但比起有线鼠标还是差远了，我40块钱买的双飞燕都要比这个鼠标好用多了。'"
      ]
     },
     "execution_count": 13,
     "metadata": {},
     "output_type": "execute_result"
    }
   ],
   "source": [
    "train_df[\"text\"][0]"
   ]
  },
  {
   "cell_type": "code",
   "execution_count": 14,
   "metadata": {},
   "outputs": [
    {
     "data": {
      "text/plain": [
       "{'input_ids': [101, 6821, 702, 7241, 4669, 6392, 6369, 698, 7028, 679, 5016, 1394, 782, 860, 2339, 2110, 511, 4500, 6629, 3341, 2523, 5168, 8024, 5445, 684, 6239, 2697, 738, 679, 1962, 8024, 4924, 679, 3800, 2692, 2218, 679, 2159, 3211, 6239, 1355, 511, 3766, 3300, 2769, 4638, 3209, 1825, 1947, 6163, 1962, 4500, 511, 7962, 3403, 4685, 2190, 1962, 671, 4157, 8024, 3683, 2769, 4638, 1369, 671, 702, 3187, 5296, 4638, 5384, 2825, 100, 2487, 679, 2208, 8024, 852, 3683, 6629, 3300, 5296, 7962, 3403, 6820, 3221, 2345, 6823, 749, 8024, 2769, 8164, 1779, 7178, 743, 4638, 1352, 7607, 4242, 6963, 6206, 3683, 6821, 702, 7962, 3403, 1962, 4500, 1914, 749, 511, 102], 'token_type_ids': [0, 0, 0, 0, 0, 0, 0, 0, 0, 0, 0, 0, 0, 0, 0, 0, 0, 0, 0, 0, 0, 0, 0, 0, 0, 0, 0, 0, 0, 0, 0, 0, 0, 0, 0, 0, 0, 0, 0, 0, 0, 0, 0, 0, 0, 0, 0, 0, 0, 0, 0, 0, 0, 0, 0, 0, 0, 0, 0, 0, 0, 0, 0, 0, 0, 0, 0, 0, 0, 0, 0, 0, 0, 0, 0, 0, 0, 0, 0, 0, 0, 0, 0, 0, 0, 0, 0, 0, 0, 0, 0, 0, 0, 0, 0, 0, 0, 0, 0, 0, 0, 0, 0, 0, 0, 0, 0, 0, 0, 0, 0, 0], 'attention_mask': [1, 1, 1, 1, 1, 1, 1, 1, 1, 1, 1, 1, 1, 1, 1, 1, 1, 1, 1, 1, 1, 1, 1, 1, 1, 1, 1, 1, 1, 1, 1, 1, 1, 1, 1, 1, 1, 1, 1, 1, 1, 1, 1, 1, 1, 1, 1, 1, 1, 1, 1, 1, 1, 1, 1, 1, 1, 1, 1, 1, 1, 1, 1, 1, 1, 1, 1, 1, 1, 1, 1, 1, 1, 1, 1, 1, 1, 1, 1, 1, 1, 1, 1, 1, 1, 1, 1, 1, 1, 1, 1, 1, 1, 1, 1, 1, 1, 1, 1, 1, 1, 1, 1, 1, 1, 1, 1, 1, 1, 1, 1, 1]}"
      ]
     },
     "execution_count": 14,
     "metadata": {},
     "output_type": "execute_result"
    }
   ],
   "source": [
    "sample_text_encoded = tokenizer(train_df[\"text\"][0])\n",
    "sample_text_encoded"
   ]
  },
  {
   "cell_type": "markdown",
   "metadata": {},
   "source": [
    "结果中包含input_ids和attention_mask：\n",
    "\n",
    "- input_ids：表示经过数值编码后的Token标）。\n",
    "\n",
    "- attention_mask：用于指示模型应关注（有效）或忽略（无效）的Token掩码。对于无效的Token（例如补齐用的PAD Token），attention_mask的值通常设为0。\n",
    "\n",
    "在每个batch中，输入序列会根据batch内的最长序列长度进行补齐（padding）。\n",
    "- 模型训练或推理时，通常不会逐条数据单独输入，而是将多条数据整合成一个组（即batch），同时送入模型\n",
    "\n",
    " ![](./attention_id.png)\n"
   ]
  },
  {
   "cell_type": "markdown",
   "metadata": {},
   "source": [
    "分词器（Tokenizer）的结果是以数字形式编码的，因此若要获取对应的标记字符串（Token），可使用convert_ids_to_tokens方法。\n",
    "\n",
    "- 句子的开头和结尾分别以特殊标记[CLS]（句首标记）和[SEP]（句尾标记）表示。\n",
    "    - 在预训练的过程中用特殊标记帮助模型更好地理解文本输入的结构和语义信息\n",
    "    - 基本上由模型设计者根据模型的预训练任务和模型架构的具体要求和标准化的惯例进行定义"
   ]
  },
  {
   "cell_type": "code",
   "execution_count": 15,
   "metadata": {},
   "outputs": [
    {
     "name": "stdout",
     "output_type": "stream",
     "text": [
      "['[CLS]', '这', '个', '键', '盘', '设', '计', '严', '重', '不', '符', '合', '人', '体', '工', '学', '。', '用', '起', '来', '很', '累', '，', '而', '且', '触', '感', '也', '不', '好', '，', '稍', '不', '注', '意', '就', '不', '容', '易', '触', '发', '。', '没', '有', '我', '的', '明', '基', '套', '装', '好', '用', '。', '鼠', '标', '相', '对', '好', '一', '点', '，', '比', '我', '的', '另', '一', '个', '无', '线', '的', '罗', '技', '[UNK]', '强', '不', '少', '，', '但', '比', '起', '有', '线', '鼠', '标', '还', '是', '差', '远', '了', '，', '我', '40', '块', '钱', '买', '的', '双', '飞', '燕', '都', '要', '比', '这', '个', '鼠', '标', '好', '用', '多', '了', '。', '[SEP]']\n"
     ]
    }
   ],
   "source": [
    "tokens = tokenizer.convert_ids_to_tokens(sample_text_encoded.input_ids)\n",
    "print(tokens)"
   ]
  },
  {
   "cell_type": "markdown",
   "metadata": {},
   "source": [
    "#### 对于全体数据的处理\n",
    "\n"
   ]
  },
  {
   "cell_type": "code",
   "execution_count": 16,
   "metadata": {},
   "outputs": [],
   "source": [
    "def tokenize(batch):\n",
    "    return tokenizer(batch[\"text\"], padding=True, truncation=True)"
   ]
  },
  {
   "cell_type": "code",
   "execution_count": 17,
   "metadata": {},
   "outputs": [],
   "source": [
    "dataset.reset_format()"
   ]
  },
  {
   "cell_type": "code",
   "execution_count": 18,
   "metadata": {},
   "outputs": [
    {
     "data": {
      "application/vnd.jupyter.widget-view+json": {
       "model_id": "17f67f3d60f54560a885d04611554094",
       "version_major": 2,
       "version_minor": 0
      },
      "text/plain": [
       "Map:   0%|          | 0/3000 [00:00<?, ? examples/s]"
      ]
     },
     "metadata": {},
     "output_type": "display_data"
    }
   ],
   "source": [
    "dataset_encoded = dataset.map(tokenize, batched=True, batch_size=None)"
   ]
  },
  {
   "cell_type": "code",
   "execution_count": 19,
   "metadata": {},
   "outputs": [
    {
     "data": {
      "text/html": [
       "<div>\n",
       "<style scoped>\n",
       "    .dataframe tbody tr th:only-of-type {\n",
       "        vertical-align: middle;\n",
       "    }\n",
       "\n",
       "    .dataframe tbody tr th {\n",
       "        vertical-align: top;\n",
       "    }\n",
       "\n",
       "    .dataframe thead th {\n",
       "        text-align: right;\n",
       "    }\n",
       "</style>\n",
       "<table border=\"1\" class=\"dataframe\">\n",
       "  <thead>\n",
       "    <tr style=\"text-align: right;\">\n",
       "      <th></th>\n",
       "      <th>input_ids</th>\n",
       "      <th>attention_mask</th>\n",
       "      <th>tokens</th>\n",
       "    </tr>\n",
       "  </thead>\n",
       "  <tbody>\n",
       "    <tr>\n",
       "      <th>0</th>\n",
       "      <td>101</td>\n",
       "      <td>1</td>\n",
       "      <td>[CLS]</td>\n",
       "    </tr>\n",
       "    <tr>\n",
       "      <th>1</th>\n",
       "      <td>6821</td>\n",
       "      <td>1</td>\n",
       "      <td>这</td>\n",
       "    </tr>\n",
       "    <tr>\n",
       "      <th>2</th>\n",
       "      <td>702</td>\n",
       "      <td>1</td>\n",
       "      <td>个</td>\n",
       "    </tr>\n",
       "    <tr>\n",
       "      <th>3</th>\n",
       "      <td>7241</td>\n",
       "      <td>1</td>\n",
       "      <td>键</td>\n",
       "    </tr>\n",
       "    <tr>\n",
       "      <th>4</th>\n",
       "      <td>4669</td>\n",
       "      <td>1</td>\n",
       "      <td>盘</td>\n",
       "    </tr>\n",
       "    <tr>\n",
       "      <th>...</th>\n",
       "      <td>...</td>\n",
       "      <td>...</td>\n",
       "      <td>...</td>\n",
       "    </tr>\n",
       "    <tr>\n",
       "      <th>507</th>\n",
       "      <td>0</td>\n",
       "      <td>0</td>\n",
       "      <td>[PAD]</td>\n",
       "    </tr>\n",
       "    <tr>\n",
       "      <th>508</th>\n",
       "      <td>0</td>\n",
       "      <td>0</td>\n",
       "      <td>[PAD]</td>\n",
       "    </tr>\n",
       "    <tr>\n",
       "      <th>509</th>\n",
       "      <td>0</td>\n",
       "      <td>0</td>\n",
       "      <td>[PAD]</td>\n",
       "    </tr>\n",
       "    <tr>\n",
       "      <th>510</th>\n",
       "      <td>0</td>\n",
       "      <td>0</td>\n",
       "      <td>[PAD]</td>\n",
       "    </tr>\n",
       "    <tr>\n",
       "      <th>511</th>\n",
       "      <td>0</td>\n",
       "      <td>0</td>\n",
       "      <td>[PAD]</td>\n",
       "    </tr>\n",
       "  </tbody>\n",
       "</table>\n",
       "<p>512 rows × 3 columns</p>\n",
       "</div>"
      ],
      "text/plain": [
       "    input_ids attention_mask tokens\n",
       "0         101              1  [CLS]\n",
       "1        6821              1      这\n",
       "2         702              1      个\n",
       "3        7241              1      键\n",
       "4        4669              1      盘\n",
       "..        ...            ...    ...\n",
       "507         0              0  [PAD]\n",
       "508         0              0  [PAD]\n",
       "509         0              0  [PAD]\n",
       "510         0              0  [PAD]\n",
       "511         0              0  [PAD]\n",
       "\n",
       "[512 rows x 3 columns]"
      ]
     },
     "execution_count": 19,
     "metadata": {},
     "output_type": "execute_result"
    }
   ],
   "source": [
    "import pandas as pd\n",
    "sample_encoded = dataset_encoded[\"train\"][0]\n",
    "pd.DataFrame(\n",
    "    [sample_encoded[\"input_ids\"]\n",
    "     , sample_encoded[\"attention_mask\"]\n",
    "     , tokenizer.convert_ids_to_tokens(sample_encoded[\"input_ids\"])],\n",
    "    ['input_ids', 'attention_mask', \"tokens\"]\n",
    ").T"
   ]
  },
  {
   "cell_type": "markdown",
   "metadata": {},
   "source": [
    "### 分类模型\n",
    "#### 预训练模型\n",
    "\n",
    "Transformer库提供了用于调用预训练模型的AutoModel。\n",
    "\n",
    "AutoModel将Token编码转换为嵌入向量（embeddings），并通过编码器堆叠（Encoder Stack）后，返回最后一层的隐藏状态（hidden states）。\n"
   ]
  },
  {
   "cell_type": "code",
   "execution_count": 20,
   "metadata": {},
   "outputs": [],
   "source": [
    "import torch\n",
    "from transformers import AutoModel\n",
    "\n",
    "device = torch.device(\"cuda\" if torch.cuda.is_available() else \"cpu\")\n",
    "model = AutoModel.from_pretrained(model_ckpt).to(device)"
   ]
  },
  {
   "cell_type": "markdown",
   "metadata": {},
   "source": [
    "首先，需要对字符串进行编码（encode），将文本转换为PyTorch张量（tensor）形式的Token。\n",
    "\n",
    "转换后得到的张量形状为```[batch_size,n_tokens]```。"
   ]
  },
  {
   "cell_type": "code",
   "execution_count": 21,
   "metadata": {},
   "outputs": [
    {
     "name": "stdout",
     "output_type": "stream",
     "text": [
      "Input tensor shape: torch.Size([1, 10])\n"
     ]
    }
   ],
   "source": [
    "text = \"这是一个测试文本\"\n",
    "inputs = tokenizer(text, return_tensors=\"pt\")\n",
    "print(f\"Input tensor shape: {inputs['input_ids'].size()}\")"
   ]
  },
  {
   "cell_type": "markdown",
   "metadata": {},
   "source": [
    "将生成的张量作为模型的输入进行传递：\n",
    "\n",
    "- 将张量放置到与模型相同的设备（GPU或CPU）上。\n",
    "\n",
    "- 使用torch.no_grad()禁用梯度的自动计算，以减少计算所需的内存消耗。\n",
    "\n",
    "- 模型的输出结果包括hidden states、loss以及attention等对象。\n",
    "    - hidden states是结果模型处理后输出的语义表示(contextualized embeddings)"
   ]
  },
  {
   "cell_type": "code",
   "execution_count": 22,
   "metadata": {},
   "outputs": [
    {
     "name": "stdout",
     "output_type": "stream",
     "text": [
      "BaseModelOutputWithPoolingAndCrossAttentions(last_hidden_state=tensor([[[-0.5036,  0.4823, -0.1583,  ...,  0.8768,  0.2690, -0.2449],\n",
      "         [-0.4370,  0.5488,  1.0300,  ...,  0.0767, -0.4802, -0.1773],\n",
      "         [-0.3209, -0.5009,  0.4814,  ...,  0.5054,  0.7345,  0.1207],\n",
      "         ...,\n",
      "         [-0.0764,  0.8613,  0.3604,  ...,  0.1990,  0.8755, -0.3564],\n",
      "         [ 0.5089,  0.7410,  0.0050,  ..., -0.1419,  0.0641, -0.1118],\n",
      "         [-0.1616, -0.0819,  0.5902,  ...,  0.7815,  0.3582, -0.1359]]],\n",
      "       device='cuda:0'), pooler_output=tensor([[ 0.9991,  0.9999,  0.9991,  0.9663,  0.8969, -0.1512, -0.9627,  0.5313,\n",
      "          0.9945, -0.9775,  1.0000,  0.9999,  0.6678, -0.9387,  1.0000, -0.9997,\n",
      "         -0.4333,  0.9982,  0.9947, -0.3059,  0.9994, -1.0000, -0.8260, -0.9486,\n",
      "         -0.6684,  0.9902,  0.9567,  0.3946, -0.9998,  0.9981,  0.9459,  0.9998,\n",
      "          0.9508, -0.9999, -0.9913,  0.6239, -0.4969,  0.9939, -0.8459, -0.0538,\n",
      "         -0.9983, -0.4736,  0.8502, -0.9951, -0.9771,  0.8627, -1.0000, -1.0000,\n",
      "          0.6126,  0.9998, -0.9043, -1.0000,  0.9732, -0.9638, -0.1603,  0.9533,\n",
      "         -0.9995,  0.9274,  1.0000,  0.5641,  0.9998, -0.9787, -0.0754, -0.9990,\n",
      "          1.0000, -0.9993, -0.9458,  0.8831,  0.9997,  1.0000, -0.9877,  0.9761,\n",
      "          1.0000,  0.9190,  0.7478,  0.9999, -0.9905,  0.7679, -1.0000, -0.9477,\n",
      "          1.0000,  0.9982, -0.9188,  0.3494, -0.9908, -1.0000, -0.9998,  0.9986,\n",
      "         -0.5576,  0.9965,  0.9947, -0.9991, -1.0000,  0.9989, -0.9998, -0.9979,\n",
      "         -0.7111,  0.9983, -0.9401, -0.9058, -0.9129,  0.8425, -0.9997, -0.9990,\n",
      "          0.9983,  0.9993,  0.9144, -0.9964,  0.9999,  0.8821, -1.0000, -0.8949,\n",
      "         -1.0000, -0.6936, -0.9897,  1.0000,  0.9670,  0.2657,  0.9986, -0.9994,\n",
      "          0.7819, -0.9999, -0.8550, -0.9817,  0.9986,  1.0000,  0.9983, -0.9983,\n",
      "          0.9999,  1.0000,  0.9511,  0.9946, -0.9972,  0.9917,  0.9285, -0.9983,\n",
      "          0.6234, -0.4370,  1.0000,  0.9982,  0.8697, -0.9543,  0.9995, -0.9962,\n",
      "          1.0000, -0.9999,  0.9947, -1.0000, -0.9844,  0.9990,  0.9793,  1.0000,\n",
      "         -0.7158,  0.9999, -0.9972, -0.9990,  0.9956, -0.5670,  0.9862, -1.0000,\n",
      "          0.9751,  0.4548, -0.9877,  0.9502, -1.0000,  1.0000, -0.9092,  1.0000,\n",
      "          0.9993, -0.9849, -0.9993, -0.9968,  0.7868, -0.9995, -0.9668,  0.9932,\n",
      "         -0.2819,  0.9910, -0.9636, -0.9965,  0.9329,  0.1224, -0.9999,  0.9954,\n",
      "         -0.7071,  0.7625,  0.0872,  0.9750,  0.9972,  0.9886, -0.8296,  1.0000,\n",
      "          0.0339,  0.9977,  0.9973, -0.1381, -0.5639, -0.9726, -1.0000,  0.7384,\n",
      "          0.9999, -0.8121, -0.9994,  0.4870, -1.0000,  0.9936, -0.8109,  0.4283,\n",
      "         -0.9961, -1.0000,  0.9999, -0.9948, -0.9969,  0.5636, -0.8416,  0.3991,\n",
      "         -0.9995,  0.8569,  0.9996, -0.6407, -0.1197, -0.7653, -0.9988,  0.9841,\n",
      "         -0.9484,  0.9840,  0.9494,  1.0000,  0.9727, -0.7538, -0.9476,  1.0000,\n",
      "          0.5433, -1.0000,  0.9969, -0.9933, -0.7374,  1.0000, -0.9997,  0.9746,\n",
      "          1.0000,  0.6074,  1.0000, -0.4346, -0.9981, -0.9994,  1.0000,  0.9997,\n",
      "          0.9999, -0.9986, -0.9985, -0.0244, -0.3975, -1.0000, -0.9989, -0.8464,\n",
      "          0.9964,  0.9998,  0.3880, -0.9996, -0.9013, -0.9993,  1.0000, -0.5471,\n",
      "          1.0000,  0.9950, -0.9839, -0.9873,  0.9970, -0.5473, -0.9997, -0.6524,\n",
      "         -0.9998, -0.9840, -1.0000,  0.9183, -0.9995, -1.0000,  0.9785,  1.0000,\n",
      "          0.8407, -0.9999,  0.9985,  0.9951, -0.9774, -0.9911,  0.9459, -1.0000,\n",
      "          1.0000, -0.9986,  0.2587, -0.9771, -0.9988, -0.4906,  0.9994,  0.9996,\n",
      "         -0.9987, -0.7154, -0.9585, -0.9980, -0.4876,  0.7920, -0.8438,  0.4455,\n",
      "         -0.9300, -0.9404,  0.8243, -0.9902, -0.9998, -0.1535,  1.0000, -0.0506,\n",
      "          1.0000,  0.8446,  1.0000,  0.5017, -0.9910,  0.9964,  0.1588, -0.9666,\n",
      "         -0.3428, -0.9686,  0.9479, -0.4673, -0.3362, -0.9989,  0.9999,  0.9981,\n",
      "          0.8908,  0.8663, -0.3973, -0.4283,  0.9663, -0.9759,  0.9993, -0.9996,\n",
      "         -0.3927,  0.9983,  1.0000,  0.9998,  0.7397, -0.7817,  0.9924, -0.9989,\n",
      "          0.9991, -0.9994,  0.9995, -0.9785,  0.5855, -0.8858, -0.9986,  1.0000,\n",
      "          0.8358, -0.8442,  0.9990, -0.9489,  0.9961,  0.9944,  0.9976,  0.9935,\n",
      "          0.8149,  1.0000, -0.9990, -0.9948, -0.9529, -0.9993, -0.9997, -1.0000,\n",
      "          0.3217, -0.9987, -0.9807, -0.8790,  0.9151,  0.8650, -0.8156, -0.9201,\n",
      "          0.2814,  0.8607, -0.8107,  0.5404,  0.9491, -0.9996, -0.9703, -1.0000,\n",
      "         -0.9981,  0.2128,  0.9998, -0.9999,  0.9990, -1.0000, -0.9552,  0.9323,\n",
      "         -0.6197, -0.3252,  1.0000, -1.0000,  0.9788,  0.9996,  1.0000,  0.9992,\n",
      "          0.9997, -0.9727, -0.9997, -0.9994, -0.9999, -1.0000, -0.9994,  0.6524,\n",
      "          0.9210, -1.0000,  0.7028,  0.9369,  1.0000,  0.9891, -0.9997, -0.5186,\n",
      "         -0.9995, -0.9659,  0.9994, -0.9500, -0.9995,  0.9853, -0.5797,  1.0000,\n",
      "         -0.1997,  0.9845,  0.9398,  0.7548,  0.8364, -1.0000,  0.8214,  1.0000,\n",
      "          0.8960, -1.0000, -0.9793, -0.8211, -0.9999, -0.1495,  0.8973,  0.9990,\n",
      "         -0.9999,  0.1345, -0.9981,  0.7686,  0.9708,  0.9997,  0.9995,  0.9245,\n",
      "          0.8934,  0.9897, -0.0352,  0.9999,  0.2966, -0.9996,  0.9991, -0.1638,\n",
      "          0.7867, -1.0000,  0.9973,  0.7178,  0.9999,  0.9979, -0.5680, -0.9841,\n",
      "         -0.9819,  0.9990,  1.0000, -0.9278,  0.3949, -0.9990, -0.9999, -0.9988,\n",
      "         -0.8647, -0.8448, -0.9848, -0.9998,  0.9624,  0.8245,  1.0000,  1.0000,\n",
      "          0.9936, -0.7402, -0.9909,  0.9994,  0.6966,  0.9988, -0.7144, -1.0000,\n",
      "         -0.9904, -1.0000,  0.9998, -0.4103, -0.4667, -0.9813, -0.0111,  0.8545,\n",
      "         -0.9998, -0.9847, -0.9973,  0.5121,  1.0000, -0.9979,  0.9978, -0.9987,\n",
      "          0.6055,  0.8698,  0.3042,  0.9968, -0.7088, -0.3685, -0.8962,  0.9812,\n",
      "          0.8621,  0.9991, -0.9635,  0.3223,  0.9987, -0.4438,  0.9998,  0.3360,\n",
      "          0.9273,  0.9844,  1.0000,  0.8793,  0.9999,  0.9854,  1.0000,  1.0000,\n",
      "         -0.9947, -0.0665,  0.7416, -0.8946,  0.1455,  0.9566,  1.0000,  0.7331,\n",
      "         -0.8276, -0.9999,  0.9670,  0.9997,  1.0000, -0.6006,  0.9953, -0.3021,\n",
      "          0.5301,  0.8357,  0.6791, -0.2778,  0.6095,  0.9906,  0.9995, -0.9999,\n",
      "         -1.0000, -1.0000,  1.0000,  0.9994, -0.6950, -1.0000,  0.9997, -0.7035,\n",
      "          0.9136,  0.9975, -0.0595, -0.9432,  0.8610, -0.9995,  0.3398,  0.9302,\n",
      "          0.4273,  0.6847,  0.9954, -0.9994, -0.7402,  1.0000,  0.4723,  0.9999,\n",
      "          0.6415, -0.9955,  0.9991, -0.9968, -0.9998, -0.8810,  0.9997,  0.9995,\n",
      "         -0.5452, -0.5870,  0.9997, -0.9998,  1.0000, -1.0000,  0.9178, -0.9997,\n",
      "          0.9999, -0.8865, -0.9994,  0.2704,  0.9026,  0.9887, -0.9639,  1.0000,\n",
      "         -0.5959, -0.8034, -0.0576, -0.9910, -0.9986, -0.9896,  0.8095, -0.9999,\n",
      "          0.9522,  0.6552, -0.7572, -0.9871, -0.9999,  1.0000, -0.3586, -0.9629,\n",
      "          1.0000, -0.8606, -1.0000,  0.9733, -0.9982,  0.0818,  0.9939, -0.7822,\n",
      "          0.0271, -1.0000,  0.7223,  0.9998, -0.9998, -0.8933, -0.9983, -0.8012,\n",
      "          0.8944,  0.9882,  0.8923, -0.0272,  0.8325,  0.9484,  0.9575, -0.2117,\n",
      "          0.2427, -1.0000, -0.9993, -0.2543, -0.9997, -0.9998, -0.9999,  1.0000,\n",
      "          0.9997,  0.9999,  0.5867, -0.6371,  0.7239,  0.9976, -0.9998, -0.9166,\n",
      "         -0.1746,  0.9251, -0.7951, -0.9997, -0.5942, -1.0000, -0.0768,  0.0424,\n",
      "         -0.9888, -0.5391,  1.0000,  0.9998, -0.9998, -0.9981, -0.9992, -0.9991,\n",
      "          0.9999,  0.9988,  0.9984, -0.9613, -0.6598,  0.9899, -0.4737,  0.3512,\n",
      "         -0.9993, -0.9972, -0.9999,  0.9032, -0.9969, -0.9991,  0.9978,  0.9999,\n",
      "          0.1419, -1.0000, -0.8578,  0.9999,  0.9988,  1.0000,  0.8058,  0.9999,\n",
      "         -0.9980,  0.9844, -0.9999,  1.0000, -1.0000,  1.0000,  1.0000,  0.9465,\n",
      "          0.9995, -0.9991,  0.9992,  0.7329, -0.8783,  0.9298, -0.7589, -0.9988,\n",
      "          0.7275,  0.9987, -0.9423,  1.0000,  0.9824,  0.8534,  0.8058,  0.9283,\n",
      "          0.9563, -0.5878, -0.9998,  0.9550,  0.9987,  0.9993,  1.0000,  0.9320,\n",
      "          0.9999, -0.9921, -0.9998,  0.9522, -0.6237,  0.0699, -0.9999,  1.0000,\n",
      "          1.0000, -0.9997, -0.8349, -0.1203, -0.1383,  0.9999,  0.9913,  0.9765,\n",
      "          0.9532,  0.5765,  0.9998, -0.9996,  0.8564, -0.9900, -0.8053,  0.9999,\n",
      "         -0.9460,  0.9998, -0.9974,  0.9999, -0.9979,  0.9943,  0.9988,  0.9962,\n",
      "         -0.9980,  1.0000, -0.6804, -0.9983, -0.9746, -0.9992, -0.9947, -0.6073]],\n",
      "       device='cuda:0'), hidden_states=None, past_key_values=None, attentions=None, cross_attentions=None)\n"
     ]
    }
   ],
   "source": [
    "inputs = {k:v.to(device) for k,v in inputs.items()}\n",
    "with torch.no_grad():\n",
    "    outputs = model(**inputs)\n",
    "print(outputs)"
   ]
  },
  {
   "cell_type": "markdown",
   "metadata": {},
   "source": [
    "查看隐藏状态张量，我们可以看到它的形状为：[batch_size, n_tokens, hidden_dim]。\n",
    "\n",
    "这意味着，对于输入的6个Token（标记），每个Token都会对应生成一个维度为768的向量表示。\n"
   ]
  },
  {
   "cell_type": "code",
   "execution_count": 23,
   "metadata": {},
   "outputs": [
    {
     "data": {
      "text/plain": [
       "torch.Size([1, 10, 768])"
      ]
     },
     "execution_count": 23,
     "metadata": {},
     "output_type": "execute_result"
    }
   ],
   "source": [
    "outputs.last_hidden_state.size()"
   ]
  },
  {
   "cell_type": "markdown",
   "metadata": {},
   "source": [
    "在分类任务中，通常的方法是使用```[CLS]``` 标记相关的隐藏状态作为输入特征。\n",
    "- ```[CLS]``` 通常具备“融合所有 token 的语义信息”的功能\n",
    "\n",
    "由于该标记出现在每个序列的开头，因此可以通过如下方式，从 outputs.last_hidden_state 中简单地通过索引提取出来："
   ]
  },
  {
   "cell_type": "code",
   "execution_count": 24,
   "metadata": {},
   "outputs": [
    {
     "data": {
      "text/plain": [
       "torch.Size([1, 768])"
      ]
     },
     "execution_count": 24,
     "metadata": {},
     "output_type": "execute_result"
    }
   ],
   "source": [
    "outputs.last_hidden_state[:,0].size()\n"
   ]
  },
  {
   "cell_type": "markdown",
   "metadata": {},
   "source": [
    "我们已经掌握了如何提取最后的隐藏状态，为了对整个数据集进行处理，我们可以将前面的步骤封装成一个函数。\n",
    "\n",
    "这样就能方便地对所有文本应用模型，并提取出每条文本对应的隐藏状态向量。"
   ]
  },
  {
   "cell_type": "code",
   "execution_count": 25,
   "metadata": {},
   "outputs": [],
   "source": [
    "def extract_hidden_states(batch):\n",
    "    # Place model inputs on the GPU\n",
    "    inputs = {k:v.to(device) for k,v in batch.items() \n",
    "              if k in tokenizer.model_input_names}\n",
    "    # Extract last hidden states\n",
    "    with torch.no_grad():\n",
    "        last_hidden_state = model(**inputs).last_hidden_state\n",
    "    # Return vector for [CLS] token\n",
    "    return {\"hidden_state\": last_hidden_state[:,0].cpu().numpy()}"
   ]
  },
  {
   "cell_type": "code",
   "execution_count": 26,
   "metadata": {},
   "outputs": [],
   "source": [
    "dataset_encoded.set_format(type=\"torch\", columns=[\"input_ids\", \"attention_mask\",\"label\"])\n"
   ]
  },
  {
   "cell_type": "code",
   "execution_count": 27,
   "metadata": {},
   "outputs": [
    {
     "data": {
      "application/vnd.jupyter.widget-view+json": {
       "model_id": "714f197f6cb34515b10a79e0548935b0",
       "version_major": 2,
       "version_minor": 0
      },
      "text/plain": [
       "Map:   0%|          | 0/20000 [00:00<?, ? examples/s]"
      ]
     },
     "metadata": {},
     "output_type": "display_data"
    },
    {
     "data": {
      "application/vnd.jupyter.widget-view+json": {
       "model_id": "43820582ea0f4a0b91a1937792dadd67",
       "version_major": 2,
       "version_minor": 0
      },
      "text/plain": [
       "Map:   0%|          | 0/3000 [00:00<?, ? examples/s]"
      ]
     },
     "metadata": {},
     "output_type": "display_data"
    }
   ],
   "source": [
    "dataset_hidden=dataset_encoded.map(extract_hidden_states, batched=True, batch_size=32)"
   ]
  },
  {
   "cell_type": "markdown",
   "metadata": {},
   "source": [
    "#### 分类模型的训练\n",
    "\n",
    "预处理后的数据集包含了训练分类器所需的所有信息。\n",
    "\n",
    "具体来说，将隐藏状态作为输入特征，将标签作为目标变量，就可以应用于各种分类算法。\n",
    "\n",
    "这里我们将训练一个逻辑回归模型,了解一下在没有经过微调的情况下,基于预训练模型的分类模型的表现。"
   ]
  },
  {
   "cell_type": "code",
   "execution_count": 28,
   "metadata": {},
   "outputs": [
    {
     "data": {
      "text/plain": [
       "((20000, 768), (3000, 768))"
      ]
     },
     "execution_count": 28,
     "metadata": {},
     "output_type": "execute_result"
    }
   ],
   "source": [
    "import numpy as np\n",
    "\n",
    "X_train = np.array(dataset_hidden[\"train\"][\"hidden_state\"])\n",
    "X_valid = np.array(dataset_hidden[\"validation\"][\"hidden_state\"])\n",
    "y_train = np.array(dataset_hidden[\"train\"][\"label\"])\n",
    "y_valid = np.array(dataset_hidden[\"validation\"][\"label\"])\n",
    "X_train.shape, X_valid.shape"
   ]
  },
  {
   "cell_type": "code",
   "execution_count": 29,
   "metadata": {},
   "outputs": [
    {
     "data": {
      "text/html": [
       "<style>#sk-container-id-1 {\n",
       "  /* Definition of color scheme common for light and dark mode */\n",
       "  --sklearn-color-text: black;\n",
       "  --sklearn-color-line: gray;\n",
       "  /* Definition of color scheme for unfitted estimators */\n",
       "  --sklearn-color-unfitted-level-0: #fff5e6;\n",
       "  --sklearn-color-unfitted-level-1: #f6e4d2;\n",
       "  --sklearn-color-unfitted-level-2: #ffe0b3;\n",
       "  --sklearn-color-unfitted-level-3: chocolate;\n",
       "  /* Definition of color scheme for fitted estimators */\n",
       "  --sklearn-color-fitted-level-0: #f0f8ff;\n",
       "  --sklearn-color-fitted-level-1: #d4ebff;\n",
       "  --sklearn-color-fitted-level-2: #b3dbfd;\n",
       "  --sklearn-color-fitted-level-3: cornflowerblue;\n",
       "\n",
       "  /* Specific color for light theme */\n",
       "  --sklearn-color-text-on-default-background: var(--sg-text-color, var(--theme-code-foreground, var(--jp-content-font-color1, black)));\n",
       "  --sklearn-color-background: var(--sg-background-color, var(--theme-background, var(--jp-layout-color0, white)));\n",
       "  --sklearn-color-border-box: var(--sg-text-color, var(--theme-code-foreground, var(--jp-content-font-color1, black)));\n",
       "  --sklearn-color-icon: #696969;\n",
       "\n",
       "  @media (prefers-color-scheme: dark) {\n",
       "    /* Redefinition of color scheme for dark theme */\n",
       "    --sklearn-color-text-on-default-background: var(--sg-text-color, var(--theme-code-foreground, var(--jp-content-font-color1, white)));\n",
       "    --sklearn-color-background: var(--sg-background-color, var(--theme-background, var(--jp-layout-color0, #111)));\n",
       "    --sklearn-color-border-box: var(--sg-text-color, var(--theme-code-foreground, var(--jp-content-font-color1, white)));\n",
       "    --sklearn-color-icon: #878787;\n",
       "  }\n",
       "}\n",
       "\n",
       "#sk-container-id-1 {\n",
       "  color: var(--sklearn-color-text);\n",
       "}\n",
       "\n",
       "#sk-container-id-1 pre {\n",
       "  padding: 0;\n",
       "}\n",
       "\n",
       "#sk-container-id-1 input.sk-hidden--visually {\n",
       "  border: 0;\n",
       "  clip: rect(1px 1px 1px 1px);\n",
       "  clip: rect(1px, 1px, 1px, 1px);\n",
       "  height: 1px;\n",
       "  margin: -1px;\n",
       "  overflow: hidden;\n",
       "  padding: 0;\n",
       "  position: absolute;\n",
       "  width: 1px;\n",
       "}\n",
       "\n",
       "#sk-container-id-1 div.sk-dashed-wrapped {\n",
       "  border: 1px dashed var(--sklearn-color-line);\n",
       "  margin: 0 0.4em 0.5em 0.4em;\n",
       "  box-sizing: border-box;\n",
       "  padding-bottom: 0.4em;\n",
       "  background-color: var(--sklearn-color-background);\n",
       "}\n",
       "\n",
       "#sk-container-id-1 div.sk-container {\n",
       "  /* jupyter's `normalize.less` sets `[hidden] { display: none; }`\n",
       "     but bootstrap.min.css set `[hidden] { display: none !important; }`\n",
       "     so we also need the `!important` here to be able to override the\n",
       "     default hidden behavior on the sphinx rendered scikit-learn.org.\n",
       "     See: https://github.com/scikit-learn/scikit-learn/issues/21755 */\n",
       "  display: inline-block !important;\n",
       "  position: relative;\n",
       "}\n",
       "\n",
       "#sk-container-id-1 div.sk-text-repr-fallback {\n",
       "  display: none;\n",
       "}\n",
       "\n",
       "div.sk-parallel-item,\n",
       "div.sk-serial,\n",
       "div.sk-item {\n",
       "  /* draw centered vertical line to link estimators */\n",
       "  background-image: linear-gradient(var(--sklearn-color-text-on-default-background), var(--sklearn-color-text-on-default-background));\n",
       "  background-size: 2px 100%;\n",
       "  background-repeat: no-repeat;\n",
       "  background-position: center center;\n",
       "}\n",
       "\n",
       "/* Parallel-specific style estimator block */\n",
       "\n",
       "#sk-container-id-1 div.sk-parallel-item::after {\n",
       "  content: \"\";\n",
       "  width: 100%;\n",
       "  border-bottom: 2px solid var(--sklearn-color-text-on-default-background);\n",
       "  flex-grow: 1;\n",
       "}\n",
       "\n",
       "#sk-container-id-1 div.sk-parallel {\n",
       "  display: flex;\n",
       "  align-items: stretch;\n",
       "  justify-content: center;\n",
       "  background-color: var(--sklearn-color-background);\n",
       "  position: relative;\n",
       "}\n",
       "\n",
       "#sk-container-id-1 div.sk-parallel-item {\n",
       "  display: flex;\n",
       "  flex-direction: column;\n",
       "}\n",
       "\n",
       "#sk-container-id-1 div.sk-parallel-item:first-child::after {\n",
       "  align-self: flex-end;\n",
       "  width: 50%;\n",
       "}\n",
       "\n",
       "#sk-container-id-1 div.sk-parallel-item:last-child::after {\n",
       "  align-self: flex-start;\n",
       "  width: 50%;\n",
       "}\n",
       "\n",
       "#sk-container-id-1 div.sk-parallel-item:only-child::after {\n",
       "  width: 0;\n",
       "}\n",
       "\n",
       "/* Serial-specific style estimator block */\n",
       "\n",
       "#sk-container-id-1 div.sk-serial {\n",
       "  display: flex;\n",
       "  flex-direction: column;\n",
       "  align-items: center;\n",
       "  background-color: var(--sklearn-color-background);\n",
       "  padding-right: 1em;\n",
       "  padding-left: 1em;\n",
       "}\n",
       "\n",
       "\n",
       "/* Toggleable style: style used for estimator/Pipeline/ColumnTransformer box that is\n",
       "clickable and can be expanded/collapsed.\n",
       "- Pipeline and ColumnTransformer use this feature and define the default style\n",
       "- Estimators will overwrite some part of the style using the `sk-estimator` class\n",
       "*/\n",
       "\n",
       "/* Pipeline and ColumnTransformer style (default) */\n",
       "\n",
       "#sk-container-id-1 div.sk-toggleable {\n",
       "  /* Default theme specific background. It is overwritten whether we have a\n",
       "  specific estimator or a Pipeline/ColumnTransformer */\n",
       "  background-color: var(--sklearn-color-background);\n",
       "}\n",
       "\n",
       "/* Toggleable label */\n",
       "#sk-container-id-1 label.sk-toggleable__label {\n",
       "  cursor: pointer;\n",
       "  display: block;\n",
       "  width: 100%;\n",
       "  margin-bottom: 0;\n",
       "  padding: 0.5em;\n",
       "  box-sizing: border-box;\n",
       "  text-align: center;\n",
       "}\n",
       "\n",
       "#sk-container-id-1 label.sk-toggleable__label-arrow:before {\n",
       "  /* Arrow on the left of the label */\n",
       "  content: \"▸\";\n",
       "  float: left;\n",
       "  margin-right: 0.25em;\n",
       "  color: var(--sklearn-color-icon);\n",
       "}\n",
       "\n",
       "#sk-container-id-1 label.sk-toggleable__label-arrow:hover:before {\n",
       "  color: var(--sklearn-color-text);\n",
       "}\n",
       "\n",
       "/* Toggleable content - dropdown */\n",
       "\n",
       "#sk-container-id-1 div.sk-toggleable__content {\n",
       "  max-height: 0;\n",
       "  max-width: 0;\n",
       "  overflow: hidden;\n",
       "  text-align: left;\n",
       "  /* unfitted */\n",
       "  background-color: var(--sklearn-color-unfitted-level-0);\n",
       "}\n",
       "\n",
       "#sk-container-id-1 div.sk-toggleable__content.fitted {\n",
       "  /* fitted */\n",
       "  background-color: var(--sklearn-color-fitted-level-0);\n",
       "}\n",
       "\n",
       "#sk-container-id-1 div.sk-toggleable__content pre {\n",
       "  margin: 0.2em;\n",
       "  border-radius: 0.25em;\n",
       "  color: var(--sklearn-color-text);\n",
       "  /* unfitted */\n",
       "  background-color: var(--sklearn-color-unfitted-level-0);\n",
       "}\n",
       "\n",
       "#sk-container-id-1 div.sk-toggleable__content.fitted pre {\n",
       "  /* unfitted */\n",
       "  background-color: var(--sklearn-color-fitted-level-0);\n",
       "}\n",
       "\n",
       "#sk-container-id-1 input.sk-toggleable__control:checked~div.sk-toggleable__content {\n",
       "  /* Expand drop-down */\n",
       "  max-height: 200px;\n",
       "  max-width: 100%;\n",
       "  overflow: auto;\n",
       "}\n",
       "\n",
       "#sk-container-id-1 input.sk-toggleable__control:checked~label.sk-toggleable__label-arrow:before {\n",
       "  content: \"▾\";\n",
       "}\n",
       "\n",
       "/* Pipeline/ColumnTransformer-specific style */\n",
       "\n",
       "#sk-container-id-1 div.sk-label input.sk-toggleable__control:checked~label.sk-toggleable__label {\n",
       "  color: var(--sklearn-color-text);\n",
       "  background-color: var(--sklearn-color-unfitted-level-2);\n",
       "}\n",
       "\n",
       "#sk-container-id-1 div.sk-label.fitted input.sk-toggleable__control:checked~label.sk-toggleable__label {\n",
       "  background-color: var(--sklearn-color-fitted-level-2);\n",
       "}\n",
       "\n",
       "/* Estimator-specific style */\n",
       "\n",
       "/* Colorize estimator box */\n",
       "#sk-container-id-1 div.sk-estimator input.sk-toggleable__control:checked~label.sk-toggleable__label {\n",
       "  /* unfitted */\n",
       "  background-color: var(--sklearn-color-unfitted-level-2);\n",
       "}\n",
       "\n",
       "#sk-container-id-1 div.sk-estimator.fitted input.sk-toggleable__control:checked~label.sk-toggleable__label {\n",
       "  /* fitted */\n",
       "  background-color: var(--sklearn-color-fitted-level-2);\n",
       "}\n",
       "\n",
       "#sk-container-id-1 div.sk-label label.sk-toggleable__label,\n",
       "#sk-container-id-1 div.sk-label label {\n",
       "  /* The background is the default theme color */\n",
       "  color: var(--sklearn-color-text-on-default-background);\n",
       "}\n",
       "\n",
       "/* On hover, darken the color of the background */\n",
       "#sk-container-id-1 div.sk-label:hover label.sk-toggleable__label {\n",
       "  color: var(--sklearn-color-text);\n",
       "  background-color: var(--sklearn-color-unfitted-level-2);\n",
       "}\n",
       "\n",
       "/* Label box, darken color on hover, fitted */\n",
       "#sk-container-id-1 div.sk-label.fitted:hover label.sk-toggleable__label.fitted {\n",
       "  color: var(--sklearn-color-text);\n",
       "  background-color: var(--sklearn-color-fitted-level-2);\n",
       "}\n",
       "\n",
       "/* Estimator label */\n",
       "\n",
       "#sk-container-id-1 div.sk-label label {\n",
       "  font-family: monospace;\n",
       "  font-weight: bold;\n",
       "  display: inline-block;\n",
       "  line-height: 1.2em;\n",
       "}\n",
       "\n",
       "#sk-container-id-1 div.sk-label-container {\n",
       "  text-align: center;\n",
       "}\n",
       "\n",
       "/* Estimator-specific */\n",
       "#sk-container-id-1 div.sk-estimator {\n",
       "  font-family: monospace;\n",
       "  border: 1px dotted var(--sklearn-color-border-box);\n",
       "  border-radius: 0.25em;\n",
       "  box-sizing: border-box;\n",
       "  margin-bottom: 0.5em;\n",
       "  /* unfitted */\n",
       "  background-color: var(--sklearn-color-unfitted-level-0);\n",
       "}\n",
       "\n",
       "#sk-container-id-1 div.sk-estimator.fitted {\n",
       "  /* fitted */\n",
       "  background-color: var(--sklearn-color-fitted-level-0);\n",
       "}\n",
       "\n",
       "/* on hover */\n",
       "#sk-container-id-1 div.sk-estimator:hover {\n",
       "  /* unfitted */\n",
       "  background-color: var(--sklearn-color-unfitted-level-2);\n",
       "}\n",
       "\n",
       "#sk-container-id-1 div.sk-estimator.fitted:hover {\n",
       "  /* fitted */\n",
       "  background-color: var(--sklearn-color-fitted-level-2);\n",
       "}\n",
       "\n",
       "/* Specification for estimator info (e.g. \"i\" and \"?\") */\n",
       "\n",
       "/* Common style for \"i\" and \"?\" */\n",
       "\n",
       ".sk-estimator-doc-link,\n",
       "a:link.sk-estimator-doc-link,\n",
       "a:visited.sk-estimator-doc-link {\n",
       "  float: right;\n",
       "  font-size: smaller;\n",
       "  line-height: 1em;\n",
       "  font-family: monospace;\n",
       "  background-color: var(--sklearn-color-background);\n",
       "  border-radius: 1em;\n",
       "  height: 1em;\n",
       "  width: 1em;\n",
       "  text-decoration: none !important;\n",
       "  margin-left: 1ex;\n",
       "  /* unfitted */\n",
       "  border: var(--sklearn-color-unfitted-level-1) 1pt solid;\n",
       "  color: var(--sklearn-color-unfitted-level-1);\n",
       "}\n",
       "\n",
       ".sk-estimator-doc-link.fitted,\n",
       "a:link.sk-estimator-doc-link.fitted,\n",
       "a:visited.sk-estimator-doc-link.fitted {\n",
       "  /* fitted */\n",
       "  border: var(--sklearn-color-fitted-level-1) 1pt solid;\n",
       "  color: var(--sklearn-color-fitted-level-1);\n",
       "}\n",
       "\n",
       "/* On hover */\n",
       "div.sk-estimator:hover .sk-estimator-doc-link:hover,\n",
       ".sk-estimator-doc-link:hover,\n",
       "div.sk-label-container:hover .sk-estimator-doc-link:hover,\n",
       ".sk-estimator-doc-link:hover {\n",
       "  /* unfitted */\n",
       "  background-color: var(--sklearn-color-unfitted-level-3);\n",
       "  color: var(--sklearn-color-background);\n",
       "  text-decoration: none;\n",
       "}\n",
       "\n",
       "div.sk-estimator.fitted:hover .sk-estimator-doc-link.fitted:hover,\n",
       ".sk-estimator-doc-link.fitted:hover,\n",
       "div.sk-label-container:hover .sk-estimator-doc-link.fitted:hover,\n",
       ".sk-estimator-doc-link.fitted:hover {\n",
       "  /* fitted */\n",
       "  background-color: var(--sklearn-color-fitted-level-3);\n",
       "  color: var(--sklearn-color-background);\n",
       "  text-decoration: none;\n",
       "}\n",
       "\n",
       "/* Span, style for the box shown on hovering the info icon */\n",
       ".sk-estimator-doc-link span {\n",
       "  display: none;\n",
       "  z-index: 9999;\n",
       "  position: relative;\n",
       "  font-weight: normal;\n",
       "  right: .2ex;\n",
       "  padding: .5ex;\n",
       "  margin: .5ex;\n",
       "  width: min-content;\n",
       "  min-width: 20ex;\n",
       "  max-width: 50ex;\n",
       "  color: var(--sklearn-color-text);\n",
       "  box-shadow: 2pt 2pt 4pt #999;\n",
       "  /* unfitted */\n",
       "  background: var(--sklearn-color-unfitted-level-0);\n",
       "  border: .5pt solid var(--sklearn-color-unfitted-level-3);\n",
       "}\n",
       "\n",
       ".sk-estimator-doc-link.fitted span {\n",
       "  /* fitted */\n",
       "  background: var(--sklearn-color-fitted-level-0);\n",
       "  border: var(--sklearn-color-fitted-level-3);\n",
       "}\n",
       "\n",
       ".sk-estimator-doc-link:hover span {\n",
       "  display: block;\n",
       "}\n",
       "\n",
       "/* \"?\"-specific style due to the `<a>` HTML tag */\n",
       "\n",
       "#sk-container-id-1 a.estimator_doc_link {\n",
       "  float: right;\n",
       "  font-size: 1rem;\n",
       "  line-height: 1em;\n",
       "  font-family: monospace;\n",
       "  background-color: var(--sklearn-color-background);\n",
       "  border-radius: 1rem;\n",
       "  height: 1rem;\n",
       "  width: 1rem;\n",
       "  text-decoration: none;\n",
       "  /* unfitted */\n",
       "  color: var(--sklearn-color-unfitted-level-1);\n",
       "  border: var(--sklearn-color-unfitted-level-1) 1pt solid;\n",
       "}\n",
       "\n",
       "#sk-container-id-1 a.estimator_doc_link.fitted {\n",
       "  /* fitted */\n",
       "  border: var(--sklearn-color-fitted-level-1) 1pt solid;\n",
       "  color: var(--sklearn-color-fitted-level-1);\n",
       "}\n",
       "\n",
       "/* On hover */\n",
       "#sk-container-id-1 a.estimator_doc_link:hover {\n",
       "  /* unfitted */\n",
       "  background-color: var(--sklearn-color-unfitted-level-3);\n",
       "  color: var(--sklearn-color-background);\n",
       "  text-decoration: none;\n",
       "}\n",
       "\n",
       "#sk-container-id-1 a.estimator_doc_link.fitted:hover {\n",
       "  /* fitted */\n",
       "  background-color: var(--sklearn-color-fitted-level-3);\n",
       "}\n",
       "</style><div id=\"sk-container-id-1\" class=\"sk-top-container\"><div class=\"sk-text-repr-fallback\"><pre>LogisticRegression(max_iter=3000)</pre><b>In a Jupyter environment, please rerun this cell to show the HTML representation or trust the notebook. <br />On GitHub, the HTML representation is unable to render, please try loading this page with nbviewer.org.</b></div><div class=\"sk-container\" hidden><div class=\"sk-item\"><div class=\"sk-estimator fitted sk-toggleable\"><input class=\"sk-toggleable__control sk-hidden--visually\" id=\"sk-estimator-id-1\" type=\"checkbox\" checked><label for=\"sk-estimator-id-1\" class=\"sk-toggleable__label fitted sk-toggleable__label-arrow fitted\">&nbsp;&nbsp;LogisticRegression<a class=\"sk-estimator-doc-link fitted\" rel=\"noreferrer\" target=\"_blank\" href=\"https://scikit-learn.org/1.5/modules/generated/sklearn.linear_model.LogisticRegression.html\">?<span>Documentation for LogisticRegression</span></a><span class=\"sk-estimator-doc-link fitted\">i<span>Fitted</span></span></label><div class=\"sk-toggleable__content fitted\"><pre>LogisticRegression(max_iter=3000)</pre></div> </div></div></div></div>"
      ],
      "text/plain": [
       "LogisticRegression(max_iter=3000)"
      ]
     },
     "execution_count": 29,
     "metadata": {},
     "output_type": "execute_result"
    }
   ],
   "source": [
    "from sklearn.linear_model import LogisticRegression\n",
    "\n",
    "lr_clf = LogisticRegression(max_iter=3000)\n",
    "lr_clf.fit(X_train, y_train)"
   ]
  },
  {
   "cell_type": "code",
   "execution_count": 30,
   "metadata": {},
   "outputs": [
    {
     "data": {
      "text/plain": [
       "0.7473333333333333"
      ]
     },
     "execution_count": 30,
     "metadata": {},
     "output_type": "execute_result"
    }
   ],
   "source": [
    "lr_clf.score(X_valid, y_valid)"
   ]
  },
  {
   "cell_type": "code",
   "execution_count": 31,
   "metadata": {},
   "outputs": [
    {
     "data": {
      "image/png": "[encoded data removed]",
      "text/plain": [
       "<Figure size 600x600 with 1 Axes>"
      ]
     },
     "metadata": {},
     "output_type": "display_data"
    }
   ],
   "source": [
    "from sklearn.metrics import ConfusionMatrixDisplay, confusion_matrix\n",
    "\n",
    "def plot_confusion_matrix(y_preds, y_true, labels):\n",
    "    cm = confusion_matrix(y_true, y_preds, normalize=\"true\")\n",
    "    fig, ax = plt.subplots(figsize=(6, 6))\n",
    "    disp = ConfusionMatrixDisplay(confusion_matrix=cm, display_labels=labels)\n",
    "    disp.plot(cmap=\"Blues\", values_format=\".2f\", ax=ax, colorbar=False)\n",
    "    plt.title(\"Normalized confusion matrix\")\n",
    "    plt.show()\n",
    "    \n",
    "y_preds = lr_clf.predict(X_valid)\n",
    "plot_confusion_matrix(y_preds, y_valid, [\"positive\",\"neutral\",\"negative\"])"
   ]
  },
  {
   "cell_type": "markdown",
   "metadata": {},
   "source": [
    "#### AutoModelForSequenceClassification的微调\n",
    "\n",
    "\n",
    "Transformer库根据不同的微调任务，提供了相应的API。\n",
    "\n",
    "\n",
    "对于分类任务可以使用```AutoModelForSequenceClassification```。\n",
    "\n",
    "```AutoModelForSequenceClassification```在预训练模型的输出之上添加了一个classifier head，因此可以更方便地进行模型设置和训练。\n",
    "- 具体来说, classifier head是在预训练模型的输出层上方添加的一个神经网络层(全连接层,通常加上 softmax)"
   ]
  },
  {
   "cell_type": "code",
   "execution_count": 32,
   "metadata": {},
   "outputs": [
    {
     "name": "stderr",
     "output_type": "stream",
     "text": [
      "Some weights of BertForSequenceClassification were not initialized from the model checkpoint at bert-base-chinese and are newly initialized: ['classifier.bias', 'classifier.weight']\n",
      "You should probably TRAIN this model on a down-stream task to be able to use it for predictions and inference.\n"
     ]
    }
   ],
   "source": [
    "from transformers import AutoModelForSequenceClassification\n",
    "\n",
    "device = torch.device(\"cuda\" if torch.cuda.is_available() else \"cpu\")\n",
    "num_labels = 3\n",
    "\n",
    "model = (AutoModelForSequenceClassification\n",
    "    .from_pretrained(model_ckpt, num_labels=num_labels)\n",
    "    .to(device))"
   ]
  },
  {
   "cell_type": "code",
   "execution_count": 33,
   "metadata": {},
   "outputs": [
    {
     "data": {
      "text/plain": [
       "BertForSequenceClassification(\n",
       "  (bert): BertModel(\n",
       "    (embeddings): BertEmbeddings(\n",
       "      (word_embeddings): Embedding(21128, 768, padding_idx=0)\n",
       "      (position_embeddings): Embedding(512, 768)\n",
       "      (token_type_embeddings): Embedding(2, 768)\n",
       "      (LayerNorm): LayerNorm((768,), eps=1e-12, elementwise_affine=True)\n",
       "      (dropout): Dropout(p=0.1, inplace=False)\n",
       "    )\n",
       "    (encoder): BertEncoder(\n",
       "      (layer): ModuleList(\n",
       "        (0-11): 12 x BertLayer(\n",
       "          (attention): BertAttention(\n",
       "            (self): BertSdpaSelfAttention(\n",
       "              (query): Linear(in_features=768, out_features=768, bias=True)\n",
       "              (key): Linear(in_features=768, out_features=768, bias=True)\n",
       "              (value): Linear(in_features=768, out_features=768, bias=True)\n",
       "              (dropout): Dropout(p=0.1, inplace=False)\n",
       "            )\n",
       "            (output): BertSelfOutput(\n",
       "              (dense): Linear(in_features=768, out_features=768, bias=True)\n",
       "              (LayerNorm): LayerNorm((768,), eps=1e-12, elementwise_affine=True)\n",
       "              (dropout): Dropout(p=0.1, inplace=False)\n",
       "            )\n",
       "          )\n",
       "          (intermediate): BertIntermediate(\n",
       "            (dense): Linear(in_features=768, out_features=3072, bias=True)\n",
       "            (intermediate_act_fn): GELUActivation()\n",
       "          )\n",
       "          (output): BertOutput(\n",
       "            (dense): Linear(in_features=3072, out_features=768, bias=True)\n",
       "            (LayerNorm): LayerNorm((768,), eps=1e-12, elementwise_affine=True)\n",
       "            (dropout): Dropout(p=0.1, inplace=False)\n",
       "          )\n",
       "        )\n",
       "      )\n",
       "    )\n",
       "    (pooler): BertPooler(\n",
       "      (dense): Linear(in_features=768, out_features=768, bias=True)\n",
       "      (activation): Tanh()\n",
       "    )\n",
       "  )\n",
       "  (dropout): Dropout(p=0.1, inplace=False)\n",
       "  (classifier): Linear(in_features=768, out_features=3, bias=True)\n",
       ")"
      ]
     },
     "execution_count": 33,
     "metadata": {},
     "output_type": "execute_result"
    }
   ],
   "source": [
    "model"
   ]
  },
  {
   "cell_type": "code",
   "execution_count": 34,
   "metadata": {},
   "outputs": [
    {
     "name": "stdout",
     "output_type": "stream",
     "text": [
      "SequenceClassifierOutput(loss=None, logits=tensor([[ 0.2521,  0.6483, -0.7100]], device='cuda:0'), hidden_states=None, attentions=None)\n"
     ]
    }
   ],
   "source": [
    "inputs = tokenizer(\"I purchased these boots to use both for everyday wear and when riding my motorcycle.\", return_tensors=\"pt\") # pytorch tensorに変換するためにreturn_tensors=\"pt\"を指定\n",
    "inputs = {k: v.to(device) for k, v in inputs.items()}\n",
    "with torch.no_grad():\n",
    "    outputs = model(**inputs)\n",
    "print(outputs)"
   ]
  },
  {
   "cell_type": "markdown",
   "metadata": {},
   "source": [
    "#### 训练设置的准备\n",
    "\n",
    "对于训练的评价指标进行定义\n",
    "\n",
    "\n"
   ]
  },
  {
   "cell_type": "code",
   "execution_count": 35,
   "metadata": {},
   "outputs": [],
   "source": [
    "from sklearn.metrics import accuracy_score, f1_score\n",
    "\n",
    "def compute_metrics(pred):\n",
    "    labels = pred.label_ids\n",
    "    preds = pred.predictions.argmax(-1)\n",
    "    f1 = f1_score(labels, preds, average=\"weighted\")\n",
    "    acc = accuracy_score(labels, preds)\n",
    "    return {\"accuracy\": acc, \"f1\": f1}"
   ]
  },
  {
   "cell_type": "markdown",
   "metadata": {},
   "source": [
    "为了提高训练的效率，可以使用 Transformer 库中的```Trainer``` 。\n",
    "\n",
    "在初始化```Trainer```类时，可以通过传入一个名为```TrainingArguments```的参数，该参数包含了与训练相关的各种设置，从而可以对训练过程进行细致的调整。"
   ]
  },
  {
   "cell_type": "code",
   "execution_count": 36,
   "metadata": {},
   "outputs": [],
   "source": [
    "\n",
    "from transformers import TrainingArguments\n",
    "\n",
    "batch_size = 32\n",
    "logging_steps = len(dataset_encoded[\"train\"]) // batch_size\n",
    "model_name = \"bert-base-chinese\"\n",
    "\n",
    "training_args = TrainingArguments(\n",
    "    output_dir=f\"./logs/{model_name}\",\n",
    "    num_train_epochs=5,\n",
    "    learning_rate=2e-5,\n",
    "    per_device_train_batch_size=batch_size,\n",
    "    per_device_eval_batch_size=batch_size,\n",
    "    weight_decay=0.01,\n",
    "    evaluation_strategy=\"epoch\",\n",
    "    disable_tqdm=False,\n",
    "    logging_steps=logging_steps,\n",
    "    push_to_hub=False,\n",
    "    log_level=\"error\",\n",
    "    report_to=\"none\" \n",
    ")"
   ]
  },
  {
   "cell_type": "markdown",
   "metadata": {},
   "source": [
    "使用Trainer类来执行模型训练。\n",
    "\n",
    "从结果来看，可以微调预训练模型的方法实现了更为出色的性能。"
   ]
  },
  {
   "cell_type": "code",
   "execution_count": 37,
   "metadata": {},
   "outputs": [
    {
     "name": "stderr",
     "output_type": "stream",
     "text": [
      "2025-04-11 00:26:35.624026: I tensorflow/core/util/port.cc:153] oneDNN custom operations are on. You may see slightly different numerical results due to floating-point round-off errors from different computation orders. To turn them off, set the environment variable `TF_ENABLE_ONEDNN_OPTS=0`.\n",
      "2025-04-11 00:26:35.629916: E external/local_xla/xla/stream_executor/cuda/cuda_fft.cc:477] Unable to register cuFFT factory: Attempting to register factory for plugin cuFFT when one has already been registered\n",
      "WARNING: All log messages before absl::InitializeLog() is called are written to STDERR\n",
      "E0000 00:00:1744298795.636507 1205713 cuda_dnn.cc:8310] Unable to register cuDNN factory: Attempting to register factory for plugin cuDNN when one has already been registered\n",
      "E0000 00:00:1744298795.638537 1205713 cuda_blas.cc:1418] Unable to register cuBLAS factory: Attempting to register factory for plugin cuBLAS when one has already been registered\n",
      "2025-04-11 00:26:35.645818: I tensorflow/core/platform/cpu_feature_guard.cc:210] This TensorFlow binary is optimized to use available CPU instructions in performance-critical operations.\n",
      "To enable the following instructions: AVX2 AVX_VNNI FMA, in other operations, rebuild TensorFlow with the appropriate compiler flags.\n"
     ]
    },
    {
     "data": {
      "text/html": [
       "\n",
       "    <div>\n",
       "      \n",
       "      <progress value='1565' max='1565' style='width:300px; height:20px; vertical-align: middle;'></progress>\n",
       "      [1565/1565 19:38, Epoch 5/5]\n",
       "    </div>\n",
       "    <table border=\"1\" class=\"dataframe\">\n",
       "  <thead>\n",
       " <tr style=\"text-align: left;\">\n",
       "      <th>Epoch</th>\n",
       "      <th>Training Loss</th>\n",
       "      <th>Validation Loss</th>\n",
       "      <th>Accuracy</th>\n",
       "      <th>F1</th>\n",
       "    </tr>\n",
       "  </thead>\n",
       "  <tbody>\n",
       "    <tr>\n",
       "      <td>1</td>\n",
       "      <td>No log</td>\n",
       "      <td>0.610234</td>\n",
       "      <td>0.753667</td>\n",
       "      <td>0.750618</td>\n",
       "    </tr>\n",
       "    <tr>\n",
       "      <td>2</td>\n",
       "      <td>0.519600</td>\n",
       "      <td>0.549224</td>\n",
       "      <td>0.779333</td>\n",
       "      <td>0.776239</td>\n",
       "    </tr>\n",
       "    <tr>\n",
       "      <td>3</td>\n",
       "      <td>0.519600</td>\n",
       "      <td>0.587048</td>\n",
       "      <td>0.776333</td>\n",
       "      <td>0.776925</td>\n",
       "    </tr>\n",
       "    <tr>\n",
       "      <td>4</td>\n",
       "      <td>0.322600</td>\n",
       "      <td>0.670723</td>\n",
       "      <td>0.771000</td>\n",
       "      <td>0.770704</td>\n",
       "    </tr>\n",
       "    <tr>\n",
       "      <td>5</td>\n",
       "      <td>0.322600</td>\n",
       "      <td>0.697007</td>\n",
       "      <td>0.768667</td>\n",
       "      <td>0.768025</td>\n",
       "    </tr>\n",
       "  </tbody>\n",
       "</table><p>"
      ],
      "text/plain": [
       "<IPython.core.display.HTML object>"
      ]
     },
     "metadata": {},
     "output_type": "display_data"
    },
    {
     "data": {
      "text/plain": [
       "TrainOutput(global_step=1565, training_loss=0.3822607704625724, metrics={'train_runtime': 1179.6089, 'train_samples_per_second': 84.774, 'train_steps_per_second': 1.327, 'total_flos': 2.63113417728e+16, 'train_loss': 0.3822607704625724, 'epoch': 5.0})"
      ]
     },
     "execution_count": 37,
     "metadata": {},
     "output_type": "execute_result"
    }
   ],
   "source": [
    "from transformers import Trainer\n",
    "\n",
    "trainer = Trainer(\n",
    "    model=model,\n",
    "    args=training_args,\n",
    "    compute_metrics=compute_metrics,\n",
    "    train_dataset=dataset_encoded[\"train\"],\n",
    "    eval_dataset=dataset_encoded[\"validation\"],\n",
    "    tokenizer=tokenizer\n",
    ")\n",
    "trainer.train()"
   ]
  },
  {
   "cell_type": "markdown",
   "metadata": {},
   "source": [
    "### 使用微调后的模型\n",
    "\n",
    "#### 检验模型精度\n",
    "\n",
    "在(训练数据以外的)其它数据上使用微调后的模型进行情感分类\n"
   ]
  },
  {
   "cell_type": "code",
   "execution_count": 38,
   "metadata": {},
   "outputs": [
    {
     "data": {
      "text/html": [],
      "text/plain": [
       "<IPython.core.display.HTML object>"
      ]
     },
     "metadata": {},
     "output_type": "display_data"
    }
   ],
   "source": [
    "preds_output = trainer.predict(dataset_encoded[\"test\"])"
   ]
  },
  {
   "cell_type": "code",
   "execution_count": 39,
   "metadata": {},
   "outputs": [
    {
     "data": {
      "image/png": "[encoded data removed]",
      "text/plain": [
       "<Figure size 600x600 with 1 Axes>"
      ]
     },
     "metadata": {},
     "output_type": "display_data"
    }
   ],
   "source": [
    "import numpy as np\n",
    "import matplotlib.pyplot as plt\n",
    "from sklearn.metrics import ConfusionMatrixDisplay, confusion_matrix\n",
    "\n",
    "y_preds = np.argmax(preds_output.predictions, axis=1)\n",
    "y_valid = np.array(dataset_encoded[\"test\"][\"label\"])\n",
    "labels = dataset_encoded[\"train\"].features[\"label\"].names\n",
    "\n",
    "def plot_confusion_matrix(y_preds, y_true, labels):\n",
    "    cm = confusion_matrix(y_true, y_preds, normalize=\"true\")\n",
    "    fig, ax = plt.subplots(figsize=(6, 6))\n",
    "    disp = ConfusionMatrixDisplay(confusion_matrix=cm, display_labels=labels)\n",
    "    disp.plot(cmap=\"Blues\", values_format=\".2f\", ax=ax, colorbar=False)\n",
    "    plt.title(\"Normalized confusion matrix\")\n",
    "    plt.show()\n",
    "\n",
    "plot_confusion_matrix(y_preds, y_valid, labels)"
   ]
  },
  {
   "cell_type": "markdown",
   "metadata": {},
   "source": [
    "#### モデル保存\n",
    "\n"
   ]
  },
  {
   "cell_type": "code",
   "execution_count": 40,
   "metadata": {},
   "outputs": [],
   "source": [
    "id2label = {}\n",
    "for i in range(dataset[\"train\"].features[\"label\"].num_classes):\n",
    "    id2label[i] = dataset[\"train\"].features[\"label\"].int2str(i)\n",
    "\n",
    "label2id = {}\n",
    "for i in range(dataset[\"train\"].features[\"label\"].num_classes):\n",
    "    label2id[dataset[\"train\"].features[\"label\"].int2str(i)] = i\n",
    "\n",
    "trainer.model.config.id2label = id2label\n",
    "trainer.model.config.label2id = label2id"
   ]
  },
  {
   "cell_type": "code",
   "execution_count": 41,
   "metadata": {},
   "outputs": [],
   "source": [
    "trainer.save_model(f\"./Model/text-classification-bert-base-chinese\")"
   ]
  },
  {
   "cell_type": "markdown",
   "metadata": {},
   "source": [
    "#### 学習済みモデルの読み込み\n"
   ]
  },
  {
   "cell_type": "code",
   "execution_count": 42,
   "metadata": {},
   "outputs": [],
   "source": [
    "new_tokenizer = AutoTokenizer\\\n",
    "    .from_pretrained(f\"./Model/text-classification-bert-base-chinese\")\n",
    "\n",
    "new_model = (AutoModelForSequenceClassification\n",
    "    .from_pretrained(f\"./Model/text-classification-bert-base-chinese\")\n",
    "    .to(device))"
   ]
  },
  {
   "cell_type": "markdown",
   "metadata": {},
   "source": [
    "サンプルテキストで推論の結果を確認します。\n",
    "\n"
   ]
  },
  {
   "cell_type": "code",
   "execution_count": 43,
   "metadata": {},
   "outputs": [],
   "source": [
    "def id2label(x):\n",
    "    label_dict={0:\"positive\",1:\"neutral\",2:\"negative\"}\n",
    "    return label_dict[x]"
   ]
  },
  {
   "cell_type": "code",
   "execution_count": null,
   "metadata": {},
   "outputs": [],
   "source": []
  }
 ],
 "metadata": {
  "kernelspec": {
   "display_name": "llm-ft",
   "language": "python",
   "name": "python3"
  },
  "language_info": {
   "codemirror_mode": {
    "name": "ipython",
    "version": 3
   },
   "file_extension": ".py",
   "mimetype": "text/x-python",
   "name": "python",
   "nbconvert_exporter": "python",
   "pygments_lexer": "ipython3",
   "version": "3.11.10"
  }
 },
 "nbformat": 4,
 "nbformat_minor": 2
}
