{
 "cells": [
  {
   "cell_type": "markdown",
   "metadata": {},
   "source": [
    "# 通过Gensim训练和使用Word2Vec模型\n",
    "\n",
    "我们了解了Word2Vec的基本原理和如何通过Skip-gram模型来学习word2vec。实际上除此之外Word2Vec还有一些其它技术细节.\n",
    "- Cbow模型:从根据一个词的上下文来预测中心词的角度出发构建模型\n",
    "- Negative Sampling: 通过简化训练过程中的概率计算，从而加速模型训练\n",
    "\n",
    "[gensim](https://radimrehurek.com/gensim/index.html)能够简化词向量训练相关算法的实现，同时提供了多种有效的功能来管理和应用 Word2Vec 模型，因此成为许多自然语言处理任务中一个高效且可靠的选择。"
   ]
  },
  {
   "cell_type": "markdown",
   "metadata": {},
   "source": [
    "## 使用Gensim进行词向量的学习"
   ]
  },
  {
   "cell_type": "code",
   "execution_count": null,
   "metadata": {},
   "outputs": [],
   "source": [
    "#!pip install --upgrade gensim\n",
    "#!pip install tensorboardX"
   ]
  },
  {
   "cell_type": "code",
   "execution_count": 1,
   "metadata": {},
   "outputs": [],
   "source": [
    "from gensim.models import Word2Vec\n",
    "\n",
    "sample_sents = [['you', 'say', 'goodbye', 'and', 'I', \"say\", \"hello\" '.']]\n",
    "model = Word2Vec(sentences=sample_sents, vector_size=5, window=1, min_count=1)"
   ]
  },
  {
   "cell_type": "markdown",
   "metadata": {},
   "source": [
    "| 参数           | 说明                                                                                          |\n",
    "|----------------|-----------------------------------------------------------------------------------------------|\n",
    "| sentences     | 原始语料库，单词列表的列表。                                                                  |\n",
    "| corpus_file   | 当从文件加载语料库时指定，文件格式为每行一个句子，单词之间由空格分隔。                         |\n",
    "| vector_size   | 向量表示的维度。             |\n",
    "| window        | 在训练时使用的上下文窗口大小。                                                                |\n",
    "| min_count     | 用于获得向量表示的单词的最小频率。                                                            |\n",
    "| workers       | 训练时使用的线程数。                                                                          |\n",
    "| sg            | 选择训练算法，$1$ 表示使用 skip-gram，$0$ 表示使用 CBOW。 "
   ]
  },
  {
   "cell_type": "code",
   "execution_count": 3,
   "metadata": {},
   "outputs": [],
   "source": [
    "with open('./Data/lee_background.cor', 'r') as file:\n",
    "    corpus = file.readlines()"
   ]
  },
  {
   "cell_type": "code",
   "execution_count": 4,
   "metadata": {},
   "outputs": [],
   "source": [
    "processed_corpus = [line.lower().split() for line in corpus]"
   ]
  },
  {
   "cell_type": "code",
   "execution_count": 5,
   "metadata": {},
   "outputs": [],
   "source": [
    "model = Word2Vec(\n",
    "    sentences=processed_corpus,  # 用于训练的语料库\n",
    "    vector_size=100,             # 词向量的维度\n",
    "    window=5,                    # 上下文窗口大小\n",
    "    min_count=5,                 # 忽略出现频率小于5的单词\n",
    "    sg=1,                        # 1表示使用skip-gram（0表示CBOW）\n",
    "    negative=5                   # 负采样的样本数量\n",
    ")"
   ]
  },
  {
   "cell_type": "markdown",
   "metadata": {},
   "source": [
    "## 使用Gensim进行词向量的操作\n",
    "\n",
    "由训练生成的模型实例```model```中，单词和单词的分散表示信息被存储在名为```wv```的对象中。此外，它提供了访问和操作训练好的单词向量的主要接口。"
   ]
  },
  {
   "cell_type": "markdown",
   "metadata": {},
   "source": [
    "单词向量的查看：可以通过 ```model.wv['word']``` 查看特定单词的向量。"
   ]
  },
  {
   "cell_type": "code",
   "execution_count": 6,
   "metadata": {},
   "outputs": [
    {
     "data": {
      "text/plain": [
       "array([ 1.21364139e-01,  3.73842530e-02,  1.06572703e-01,  3.17449979e-02,\n",
       "       -7.56473746e-05, -1.85204983e-01,  1.30180314e-01,  3.11880857e-01,\n",
       "       -1.31044582e-01, -2.00800627e-01, -1.05016410e-01, -2.39488646e-01,\n",
       "       -1.79136828e-01,  1.82034031e-01, -2.93997098e-02, -1.36869699e-02,\n",
       "        1.59983307e-01,  6.20281585e-02, -3.42927091e-02, -4.06704247e-01,\n",
       "       -5.88930547e-02,  5.85456705e-03,  1.45724878e-01, -1.68478921e-01,\n",
       "       -1.08535260e-01, -7.74289295e-02, -3.95064980e-01, -2.48016357e-01,\n",
       "       -3.00998539e-02,  5.79219721e-02,  1.67940915e-01, -1.98500697e-02,\n",
       "        2.73629814e-01, -3.55517447e-01,  2.89780740e-02,  7.16813579e-02,\n",
       "        2.27782298e-02, -1.22732736e-01, -2.24702403e-01, -2.59456486e-01,\n",
       "        8.02994519e-02, -1.46794310e-02, -5.18556163e-02,  7.85542950e-02,\n",
       "        9.12121683e-02, -6.69549033e-02, -2.13250116e-01, -1.09338745e-01,\n",
       "        9.24382806e-02,  1.21743090e-01, -2.27762330e-02, -7.63119906e-02,\n",
       "       -1.81810886e-01,  1.58608351e-02, -6.01433925e-02, -7.30029419e-02,\n",
       "        9.94649157e-02, -7.40454439e-03, -2.15382904e-01,  6.29818216e-02,\n",
       "        1.81631707e-02,  4.15999368e-02, -1.42388731e-01,  1.26736879e-01,\n",
       "       -2.59150296e-01,  1.98793650e-01, -7.58381502e-04,  1.50066298e-02,\n",
       "       -2.47215763e-01,  9.52264816e-02, -2.32113078e-01, -1.77900940e-02,\n",
       "        1.39147848e-01, -8.27342942e-02,  2.03918874e-01, -5.86404353e-02,\n",
       "       -2.22571995e-02,  1.21822096e-01, -2.58456409e-01, -2.02290509e-02,\n",
       "       -2.16095671e-01,  4.61418591e-02, -4.33572382e-02,  1.36539996e-01,\n",
       "       -4.88801673e-02,  3.70669030e-02,  7.24530518e-02,  7.40597993e-02,\n",
       "        2.25316480e-01, -1.00620642e-01,  1.68449119e-01, -6.09049499e-02,\n",
       "       -5.99986911e-02, -3.29984445e-03,  1.85551360e-01,  7.24093243e-02,\n",
       "       -8.77280384e-02, -3.41946371e-02,  1.18708340e-02,  4.51648198e-02],\n",
       "      dtype=float32)"
      ]
     },
     "execution_count": 6,
     "metadata": {},
     "output_type": "execute_result"
    }
   ],
   "source": [
    "model.wv['you']"
   ]
  },
  {
   "cell_type": "markdown",
   "metadata": {},
   "source": [
    "相似度的计算：可以通过 ```model.wv.similarity('word1', 'word2')``` 计算两个单词之间的相似度。"
   ]
  },
  {
   "cell_type": "code",
   "execution_count": 7,
   "metadata": {},
   "outputs": [
    {
     "data": {
      "text/plain": [
       "0.97022206"
      ]
     },
     "execution_count": 7,
     "metadata": {},
     "output_type": "execute_result"
    }
   ],
   "source": [
    "model.wv.similarity(\"you\", \"your\")"
   ]
  },
  {
   "cell_type": "markdown",
   "metadata": {},
   "source": [
    "获取最相似的单词：可以通过 ```model.wv.most_similar('word')``` 获取与特定单词最相似的单词。\n"
   ]
  },
  {
   "cell_type": "code",
   "execution_count": 8,
   "metadata": {},
   "outputs": [
    {
     "data": {
      "text/plain": [
       "[('do', 0.9935764670372009),\n",
       " (\"don't\", 0.993012547492981),\n",
       " (\"it's\", 0.9921637177467346),\n",
       " ('so', 0.9921269416809082),\n",
       " ('know', 0.9916104078292847),\n",
       " ('\"we', 0.9909570217132568),\n",
       " ('what', 0.9908595085144043),\n",
       " ('can', 0.9906547665596008),\n",
       " ('very', 0.9899969696998596),\n",
       " ('get', 0.9898061752319336)]"
      ]
     },
     "execution_count": 8,
     "metadata": {},
     "output_type": "execute_result"
    }
   ],
   "source": [
    "model.wv.most_similar(\"you\")"
   ]
  },
  {
   "cell_type": "markdown",
   "metadata": {},
   "source": [
    "## 使用Gensim进行模型的管理\n"
   ]
  },
  {
   "cell_type": "code",
   "execution_count": 9,
   "metadata": {},
   "outputs": [],
   "source": [
    "#model.save(\"word2vec.model\")\n",
    "#model = Word2Vec.load(\"word2vec.model\")"
   ]
  },
  {
   "cell_type": "markdown",
   "metadata": {},
   "source": [
    "## 使用预训练模型\n"
   ]
  },
  {
   "cell_type": "code",
   "execution_count": 10,
   "metadata": {},
   "outputs": [
    {
     "name": "stdout",
     "output_type": "stream",
     "text": [
      "['fasttext-wiki-news-subwords-300', 'conceptnet-numberbatch-17-06-300', 'word2vec-ruscorpora-300', 'word2vec-google-news-300', 'glove-wiki-gigaword-50', 'glove-wiki-gigaword-100', 'glove-wiki-gigaword-200', 'glove-wiki-gigaword-300', 'glove-twitter-25', 'glove-twitter-50', 'glove-twitter-100', 'glove-twitter-200', '__testing_word2vec-matrix-synopsis']\n"
     ]
    }
   ],
   "source": [
    "import gensim.downloader\n",
    "\n",
    "print(list(gensim.downloader.info()['models'].keys()))"
   ]
  },
  {
   "cell_type": "code",
   "execution_count": 11,
   "metadata": {},
   "outputs": [
    {
     "name": "stdout",
     "output_type": "stream",
     "text": [
      "[==================================================] 100.0% 1662.8/1662.8MB downloaded\n"
     ]
    }
   ],
   "source": [
    "model = gensim.downloader.load('word2vec-google-news-300')"
   ]
  },
  {
   "cell_type": "code",
   "execution_count": null,
   "metadata": {},
   "outputs": [],
   "source": [
    "similarity = model.similarity('woman', 'man')\n",
    "similarity"
   ]
  },
  {
   "cell_type": "code",
   "execution_count": 12,
   "metadata": {},
   "outputs": [
    {
     "data": {
      "text/plain": [
       "0.7664013"
      ]
     },
     "execution_count": 12,
     "metadata": {},
     "output_type": "execute_result"
    }
   ],
   "source": [
    "similarity = model.similarity('woman', 'man')\n",
    "similarity"
   ]
  },
  {
   "cell_type": "code",
   "execution_count": 13,
   "metadata": {},
   "outputs": [
    {
     "data": {
      "text/plain": [
       "array([ 1.25976562e-01,  2.97851562e-02,  8.60595703e-03,  1.39648438e-01,\n",
       "       -2.56347656e-02, -3.61328125e-02,  1.11816406e-01, -1.98242188e-01,\n",
       "        5.12695312e-02,  3.63281250e-01, -2.42187500e-01, -3.02734375e-01,\n",
       "       -1.77734375e-01, -2.49023438e-02, -1.67968750e-01, -1.69921875e-01,\n",
       "        3.46679688e-02,  5.21850586e-03,  4.63867188e-02,  1.28906250e-01,\n",
       "        1.36718750e-01,  1.12792969e-01,  5.95703125e-02,  1.36718750e-01,\n",
       "        1.01074219e-01, -1.76757812e-01, -2.51953125e-01,  5.98144531e-02,\n",
       "        3.41796875e-01, -3.11279297e-02,  1.04492188e-01,  6.17675781e-02,\n",
       "        1.24511719e-01,  4.00390625e-01, -3.22265625e-01,  8.39843750e-02,\n",
       "        3.90625000e-02,  5.85937500e-03,  7.03125000e-02,  1.72851562e-01,\n",
       "        1.38671875e-01, -2.31445312e-01,  2.83203125e-01,  1.42578125e-01,\n",
       "        3.41796875e-01, -2.39257812e-02, -1.09863281e-01,  3.32031250e-02,\n",
       "       -5.46875000e-02,  1.53198242e-02, -1.62109375e-01,  1.58203125e-01,\n",
       "       -2.59765625e-01,  2.01416016e-02, -1.63085938e-01,  1.35803223e-03,\n",
       "       -1.44531250e-01, -5.68847656e-02,  4.29687500e-02, -2.46582031e-02,\n",
       "        1.85546875e-01,  4.47265625e-01,  9.58251953e-03,  1.31835938e-01,\n",
       "        9.86328125e-02, -1.85546875e-01, -1.00097656e-01, -1.33789062e-01,\n",
       "       -1.25000000e-01,  2.83203125e-01,  1.23046875e-01,  5.32226562e-02,\n",
       "       -1.77734375e-01,  8.59375000e-02, -2.18505859e-02,  2.05078125e-02,\n",
       "       -1.39648438e-01,  2.51464844e-02,  1.38671875e-01, -1.05468750e-01,\n",
       "        1.38671875e-01,  8.88671875e-02, -7.51953125e-02, -2.13623047e-02,\n",
       "        1.72851562e-01,  4.63867188e-02, -2.65625000e-01,  8.91113281e-03,\n",
       "        1.49414062e-01,  3.78417969e-02,  2.38281250e-01, -1.24511719e-01,\n",
       "       -2.17773438e-01, -1.81640625e-01,  2.97851562e-02,  5.71289062e-02,\n",
       "       -2.89306641e-02,  1.24511719e-02,  9.66796875e-02, -2.31445312e-01,\n",
       "        5.81054688e-02,  6.68945312e-02,  7.08007812e-02, -3.08593750e-01,\n",
       "       -2.14843750e-01,  1.45507812e-01, -4.27734375e-01, -9.39941406e-03,\n",
       "        1.54296875e-01, -7.66601562e-02,  2.89062500e-01,  2.77343750e-01,\n",
       "       -4.86373901e-04, -1.36718750e-01,  3.24218750e-01, -2.46093750e-01,\n",
       "       -3.03649902e-03, -2.11914062e-01,  1.25000000e-01,  2.69531250e-01,\n",
       "        2.04101562e-01,  8.25195312e-02, -2.01171875e-01, -1.60156250e-01,\n",
       "       -3.78417969e-02, -1.20117188e-01,  1.15234375e-01, -4.10156250e-02,\n",
       "       -3.95507812e-02, -8.98437500e-02,  6.34765625e-03,  2.03125000e-01,\n",
       "        1.86523438e-01,  2.73437500e-01,  6.29882812e-02,  1.41601562e-01,\n",
       "       -9.81445312e-02,  1.38671875e-01,  1.82617188e-01,  1.73828125e-01,\n",
       "        1.73828125e-01, -2.37304688e-01,  1.78710938e-01,  6.34765625e-02,\n",
       "        2.36328125e-01, -2.08984375e-01,  8.74023438e-02, -1.66015625e-01,\n",
       "       -7.91015625e-02,  2.43164062e-01, -8.88671875e-02,  1.26953125e-01,\n",
       "       -2.16796875e-01, -1.73828125e-01, -3.59375000e-01, -8.25195312e-02,\n",
       "       -6.49414062e-02,  5.07812500e-02,  1.35742188e-01, -7.47070312e-02,\n",
       "       -1.64062500e-01,  1.15356445e-02,  4.45312500e-01, -2.15820312e-01,\n",
       "       -1.11328125e-01, -1.92382812e-01,  1.70898438e-01, -1.25000000e-01,\n",
       "        2.65502930e-03,  1.92382812e-01, -1.74804688e-01,  1.39648438e-01,\n",
       "        2.92968750e-01,  1.13281250e-01,  5.95703125e-02, -6.39648438e-02,\n",
       "        9.96093750e-02, -2.72216797e-02,  1.96533203e-02,  4.27246094e-02,\n",
       "       -2.46093750e-01,  6.39648438e-02, -2.25585938e-01, -1.68945312e-01,\n",
       "        2.89916992e-03,  8.20312500e-02,  3.41796875e-01,  4.32128906e-02,\n",
       "        1.32812500e-01,  1.42578125e-01,  7.61718750e-02,  5.98144531e-02,\n",
       "       -1.19140625e-01,  2.74658203e-03, -6.29882812e-02, -2.72216797e-02,\n",
       "       -4.82177734e-03, -8.20312500e-02, -2.49023438e-02, -4.00390625e-01,\n",
       "       -1.06933594e-01,  4.24804688e-02,  7.76367188e-02, -1.16699219e-01,\n",
       "        7.37304688e-02, -9.22851562e-02,  1.07910156e-01,  1.58203125e-01,\n",
       "        4.24804688e-02,  1.26953125e-01,  3.61328125e-02,  2.67578125e-01,\n",
       "       -1.01074219e-01, -3.02734375e-01, -5.76171875e-02,  5.05371094e-02,\n",
       "        5.26428223e-04, -2.07031250e-01, -1.38671875e-01, -8.97216797e-03,\n",
       "       -2.78320312e-02, -1.41601562e-01,  2.07031250e-01, -1.58203125e-01,\n",
       "        1.27929688e-01,  1.49414062e-01, -2.24609375e-02, -8.44726562e-02,\n",
       "        1.22558594e-01,  2.15820312e-01, -2.13867188e-01, -3.12500000e-01,\n",
       "       -3.73046875e-01,  4.08935547e-03,  1.07421875e-01,  1.06933594e-01,\n",
       "        7.32421875e-02,  8.97216797e-03, -3.88183594e-02, -1.29882812e-01,\n",
       "        1.49414062e-01, -2.14843750e-01, -1.83868408e-03,  9.91210938e-02,\n",
       "        1.57226562e-01, -1.14257812e-01, -2.05078125e-01,  9.91210938e-02,\n",
       "        3.69140625e-01, -1.97265625e-01,  3.54003906e-02,  1.09375000e-01,\n",
       "        1.31835938e-01,  1.66992188e-01,  2.35351562e-01,  1.04980469e-01,\n",
       "       -4.96093750e-01, -1.64062500e-01, -1.56250000e-01, -5.22460938e-02,\n",
       "        1.03027344e-01,  2.43164062e-01, -1.88476562e-01,  5.07812500e-02,\n",
       "       -9.37500000e-02, -6.68945312e-02,  2.27050781e-02,  7.61718750e-02,\n",
       "        2.89062500e-01,  3.10546875e-01, -5.37109375e-02,  2.28515625e-01,\n",
       "        2.51464844e-02,  6.78710938e-02, -1.21093750e-01, -2.15820312e-01,\n",
       "       -2.73437500e-01, -3.07617188e-02, -3.37890625e-01,  1.53320312e-01,\n",
       "        2.33398438e-01, -2.08007812e-01,  3.73046875e-01,  8.20312500e-02,\n",
       "        2.51953125e-01, -7.61718750e-02, -4.66308594e-02, -2.23388672e-02,\n",
       "        2.99072266e-02, -5.93261719e-02, -4.66918945e-03, -2.44140625e-01,\n",
       "       -2.09960938e-01, -2.87109375e-01, -4.54101562e-02, -1.77734375e-01,\n",
       "       -2.79296875e-01, -8.59375000e-02,  9.13085938e-02,  2.51953125e-01],\n",
       "      dtype=float32)"
      ]
     },
     "execution_count": 13,
     "metadata": {},
     "output_type": "execute_result"
    }
   ],
   "source": [
    "model['king']"
   ]
  },
  {
   "cell_type": "markdown",
   "metadata": {},
   "source": [
    "执行向量计算：vec(king) - vec(man) + vec(woman)"
   ]
  },
  {
   "cell_type": "code",
   "execution_count": null,
   "metadata": {},
   "outputs": [
    {
     "name": "stdout",
     "output_type": "stream",
     "text": [
      "king: 0.8449392914772034\n",
      "queen: 0.730051577091217\n",
      "monarch: 0.6454662084579468\n",
      "princess: 0.6156250834465027\n",
      "crown_prince: 0.5818676948547363\n",
      "prince: 0.5777117013931274\n",
      "kings: 0.561366617679596\n",
      "sultan: 0.5376775860786438\n",
      "Queen_Consort: 0.5344247221946716\n",
      "queens: 0.5289887189865112\n"
     ]
    }
   ],
   "source": [
    "result = model['king'] - model['man'] + model['woman']\n",
    "\n",
    "similar_words = model.most_similar([result], topn=10)\n",
    "\n",
    "for word, similarity in similar_words:\n",
    "    print(f'{word}: {similarity}')\n"
   ]
  },
  {
   "cell_type": "markdown",
   "metadata": {},
   "source": [
    "## 词向量的可视化\n"
   ]
  },
  {
   "cell_type": "code",
   "execution_count": 15,
   "metadata": {},
   "outputs": [
    {
     "data": {
      "image/png": "[encoded data removed]",
      "text/plain": [
       "<Figure size 400x400 with 1 Axes>"
      ]
     },
     "metadata": {},
     "output_type": "display_data"
    }
   ],
   "source": [
    "import matplotlib.pyplot as plt\n",
    "from sklearn.manifold import TSNE\n",
    "import numpy as np\n",
    "\n",
    "\n",
    "# List of words to visualize\n",
    "words = ['woman', 'women', 'man', 'men', 'king', 'queen', 'prince', 'princess']\n",
    "\n",
    "# Check if the words are in the model to avoid KeyError\n",
    "vectors = [model[word] for word in words if word in model]\n",
    "\n",
    "# Converting list of vectors to a numpy array\n",
    "vectors_array = np.array(vectors)\n",
    "\n",
    "# Applying t-SNE for dimensionality reduction\n",
    "tsne = TSNE(n_components=2, random_state=0, perplexity=3)\n",
    "vectors_tsne = tsne.fit_transform(vectors_array)\n",
    "\n",
    "# Visualization\n",
    "plt.figure(figsize=(4, 4))\n",
    "for i, word in enumerate(words):\n",
    "    if word in model:\n",
    "        plt.scatter(vectors_tsne[i, 0], vectors_tsne[i, 1])\n",
    "        plt.annotate(word, (vectors_tsne[i, 0], vectors_tsne[i, 1]))\n",
    "\n",
    "plt.xlabel('t-SNE Feature 0')\n",
    "plt.ylabel('t-SNE Feature 1')\n",
    "plt.title('t-SNE Visualization of Word Vectors')\n",
    "plt.show()"
   ]
  },
  {
   "cell_type": "markdown",
   "metadata": {},
   "source": [
    "## 使用tensorboard进行可视化\n"
   ]
  },
  {
   "cell_type": "code",
   "execution_count": 20,
   "metadata": {},
   "outputs": [],
   "source": [
    "from tensorboardX import SummaryWriter\n",
    "import torch\n",
    "\n",
    "weights = model.vectors\n",
    "labels = model.index_to_key\n",
    "weights = weights[:1000]\n",
    "labels = labels[:1000]"
   ]
  },
  {
   "cell_type": "markdown",
   "metadata": {},
   "source": [
    "执行代码后，数据将会在当前目录中创建。通过在启动 TensorBoard 时指定runs目录,即可以通过TensorBoard查看并交互式地分析数据内容."
   ]
  },
  {
   "cell_type": "code",
   "execution_count": 21,
   "metadata": {},
   "outputs": [],
   "source": [
    "writer = SummaryWriter('runs/google_embeddings')\n",
    "writer.add_embedding(torch.FloatTensor(weights), metadata=labels)"
   ]
  },
  {
   "cell_type": "code",
   "execution_count": null,
   "metadata": {},
   "outputs": [],
   "source": [
    "!tensorboard --logdir=runs"
   ]
  }
 ],
 "metadata": {
  "kernelspec": {
   "display_name": "nlp",
   "language": "python",
   "name": "python3"
  },
  "language_info": {
   "codemirror_mode": {
    "name": "ipython",
    "version": 3
   },
   "file_extension": ".py",
   "mimetype": "text/x-python",
   "name": "python",
   "nbconvert_exporter": "python",
   "pygments_lexer": "ipython3",
   "version": "3.10.13"
  }
 },
 "nbformat": 4,
 "nbformat_minor": 2
}
